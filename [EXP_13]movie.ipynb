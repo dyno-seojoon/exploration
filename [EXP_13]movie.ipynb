{
 "cells": [
  {
   "cell_type": "markdown",
   "metadata": {
    "id": "hJxSMjTypfPO"
   },
   "source": [
    "# 13. 프로젝트 - Movielens 영화 추천 실습"
   ]
  },
  {
   "cell_type": "markdown",
   "metadata": {
    "id": "_b829IgDqGH2"
   },
   "source": [
    "---\n",
    "## Step 0."
   ]
  },
  {
   "cell_type": "code",
   "execution_count": 1,
   "metadata": {
    "executionInfo": {
     "elapsed": 610,
     "status": "ok",
     "timestamp": 1667542903218,
     "user": {
      "displayName": "Seojoon Kang",
      "userId": "03671467470939808326"
     },
     "user_tz": -540
    },
    "id": "HQfGJMmh51X7"
   },
   "outputs": [],
   "source": [
    "# !pip install implicit"
   ]
  },
  {
   "cell_type": "code",
   "execution_count": 2,
   "metadata": {
    "colab": {
     "base_uri": "https://localhost:8080/"
    },
    "executionInfo": {
     "elapsed": 583,
     "status": "ok",
     "timestamp": 1667542904131,
     "user": {
      "displayName": "Seojoon Kang",
      "userId": "03671467470939808326"
     },
     "user_tz": -540
    },
    "id": "w6Pa4IO1rFuw",
    "outputId": "ff38b864-e455-45e4-9264-e618fcc5f479"
   },
   "outputs": [],
   "source": [
    "import pandas as pd\n",
    "import numpy as np\n",
    "import os\n",
    "import scipy\n",
    "import implicit"
   ]
  },
  {
   "cell_type": "code",
   "execution_count": 3,
   "metadata": {
    "colab": {
     "base_uri": "https://localhost:8080/"
    },
    "executionInfo": {
     "elapsed": 2614,
     "status": "ok",
     "timestamp": 1667542906739,
     "user": {
      "displayName": "Seojoon Kang",
      "userId": "03671467470939808326"
     },
     "user_tz": -540
    },
    "id": "n9jMewKyslSK",
    "outputId": "7f51b035-f8e7-4d11-b1de-1ac62e41e50c"
   },
   "outputs": [],
   "source": [
    "# Google Drive - Colab  연동을 위한 라이브러리 Import\n",
    "# from google.colab import drive\n",
    "# drive.mount('/content/drive')\n",
    "# data_dir = '/content/drive/MyDrive/Exploration/data'"
   ]
  },
  {
   "cell_type": "markdown",
   "metadata": {
    "id": "5csQMPm4qJCZ"
   },
   "source": [
    "---\n",
    "## Step 1. 데이터 준비와 전처리\n",
    "Movielens 데이터는 rating.dat 안에 이미 인덱싱까지 완료된 사용자-영화-평점 데이터가 깔끔하게 정리되어 있습니다."
   ]
  },
  {
   "cell_type": "code",
   "execution_count": 4,
   "metadata": {
    "colab": {
     "base_uri": "https://localhost:8080/",
     "height": 206
    },
    "executionInfo": {
     "elapsed": 10166,
     "status": "ok",
     "timestamp": 1667542916890,
     "user": {
      "displayName": "Seojoon Kang",
      "userId": "03671467470939808326"
     },
     "user_tz": -540
    },
    "id": "_1x4CeamsKqB",
    "outputId": "027e6bc8-e131-4033-b435-f51f3c6c1945"
   },
   "outputs": [
    {
     "data": {
      "text/html": [
       "<div>\n",
       "<style scoped>\n",
       "    .dataframe tbody tr th:only-of-type {\n",
       "        vertical-align: middle;\n",
       "    }\n",
       "\n",
       "    .dataframe tbody tr th {\n",
       "        vertical-align: top;\n",
       "    }\n",
       "\n",
       "    .dataframe thead th {\n",
       "        text-align: right;\n",
       "    }\n",
       "</style>\n",
       "<table border=\"1\" class=\"dataframe\">\n",
       "  <thead>\n",
       "    <tr style=\"text-align: right;\">\n",
       "      <th></th>\n",
       "      <th>user_id</th>\n",
       "      <th>movie_id</th>\n",
       "      <th>ratings</th>\n",
       "      <th>timestamp</th>\n",
       "    </tr>\n",
       "  </thead>\n",
       "  <tbody>\n",
       "    <tr>\n",
       "      <th>0</th>\n",
       "      <td>1</td>\n",
       "      <td>1193</td>\n",
       "      <td>5</td>\n",
       "      <td>978300760</td>\n",
       "    </tr>\n",
       "    <tr>\n",
       "      <th>1</th>\n",
       "      <td>1</td>\n",
       "      <td>661</td>\n",
       "      <td>3</td>\n",
       "      <td>978302109</td>\n",
       "    </tr>\n",
       "    <tr>\n",
       "      <th>2</th>\n",
       "      <td>1</td>\n",
       "      <td>914</td>\n",
       "      <td>3</td>\n",
       "      <td>978301968</td>\n",
       "    </tr>\n",
       "    <tr>\n",
       "      <th>3</th>\n",
       "      <td>1</td>\n",
       "      <td>3408</td>\n",
       "      <td>4</td>\n",
       "      <td>978300275</td>\n",
       "    </tr>\n",
       "    <tr>\n",
       "      <th>4</th>\n",
       "      <td>1</td>\n",
       "      <td>2355</td>\n",
       "      <td>5</td>\n",
       "      <td>978824291</td>\n",
       "    </tr>\n",
       "  </tbody>\n",
       "</table>\n",
       "</div>"
      ],
      "text/plain": [
       "   user_id  movie_id  ratings  timestamp\n",
       "0        1      1193        5  978300760\n",
       "1        1       661        3  978302109\n",
       "2        1       914        3  978301968\n",
       "3        1      3408        4  978300275\n",
       "4        1      2355        5  978824291"
      ]
     },
     "execution_count": 4,
     "metadata": {},
     "output_type": "execute_result"
    }
   ],
   "source": [
    "rating_file_path = os.getenv('HOME') + '/aiffel/recommendata_iu/data/ml-1m/ratings.dat'\n",
    "ratings_cols = ['user_id', 'movie_id', 'ratings', 'timestamp']\n",
    "ratings = pd.read_csv(rating_file_path, sep='::', names=ratings_cols, engine='python', encoding = \"ISO-8859-1\")\n",
    "orginal_data_size = len(ratings)\n",
    "ratings.head()"
   ]
  },
  {
   "cell_type": "code",
   "execution_count": 5,
   "metadata": {
    "colab": {
     "base_uri": "https://localhost:8080/"
    },
    "executionInfo": {
     "elapsed": 50,
     "status": "ok",
     "timestamp": 1667542916892,
     "user": {
      "displayName": "Seojoon Kang",
      "userId": "03671467470939808326"
     },
     "user_tz": -540
    },
    "id": "UPjzcSi6sLkR",
    "outputId": "4990f7b1-db6f-4b9c-dba5-65351ff21480"
   },
   "outputs": [
    {
     "name": "stdout",
     "output_type": "stream",
     "text": [
      "orginal_data_size: 1000209, filtered_data_size: 836478\n",
      "Ratio of Remaining Data is 83.63%\n"
     ]
    }
   ],
   "source": [
    "# 3점 이상만 남깁니다.\n",
    "ratings = ratings[ratings['ratings']>=3]\n",
    "filtered_data_size = len(ratings)\n",
    "\n",
    "print(f'orginal_data_size: {orginal_data_size}, filtered_data_size: {filtered_data_size}')\n",
    "print(f'Ratio of Remaining Data is {filtered_data_size / orginal_data_size:.2%}')"
   ]
  },
  {
   "cell_type": "code",
   "execution_count": 6,
   "metadata": {
    "colab": {
     "base_uri": "https://localhost:8080/"
    },
    "executionInfo": {
     "elapsed": 38,
     "status": "ok",
     "timestamp": 1667542916894,
     "user": {
      "displayName": "Seojoon Kang",
      "userId": "03671467470939808326"
     },
     "user_tz": -540
    },
    "id": "YRrYHwfPsLcA",
    "outputId": "47ea3901-9bc5-4d2a-8b84-290b6af587e2"
   },
   "outputs": [
    {
     "data": {
      "text/plain": [
       "0          5\n",
       "1          3\n",
       "2          3\n",
       "3          4\n",
       "4          5\n",
       "          ..\n",
       "1000203    3\n",
       "1000205    5\n",
       "1000206    5\n",
       "1000207    4\n",
       "1000208    4\n",
       "Name: counts, Length: 836478, dtype: int64"
      ]
     },
     "execution_count": 6,
     "metadata": {},
     "output_type": "execute_result"
    }
   ],
   "source": [
    "# ratings 컬럼의 이름을 counts로 바꿉니다.\n",
    "ratings.rename(columns={'ratings':'counts'}, inplace=True)\n",
    "ratings['counts']"
   ]
  },
  {
   "cell_type": "code",
   "execution_count": 7,
   "metadata": {
    "colab": {
     "base_uri": "https://localhost:8080/",
     "height": 206
    },
    "executionInfo": {
     "elapsed": 37,
     "status": "ok",
     "timestamp": 1667542916897,
     "user": {
      "displayName": "Seojoon Kang",
      "userId": "03671467470939808326"
     },
     "user_tz": -540
    },
    "id": "8VZq8yOUsLWQ",
    "outputId": "ca3b0f34-b21d-4833-df38-2961eec8e6cb"
   },
   "outputs": [
    {
     "data": {
      "text/html": [
       "<div>\n",
       "<style scoped>\n",
       "    .dataframe tbody tr th:only-of-type {\n",
       "        vertical-align: middle;\n",
       "    }\n",
       "\n",
       "    .dataframe tbody tr th {\n",
       "        vertical-align: top;\n",
       "    }\n",
       "\n",
       "    .dataframe thead th {\n",
       "        text-align: right;\n",
       "    }\n",
       "</style>\n",
       "<table border=\"1\" class=\"dataframe\">\n",
       "  <thead>\n",
       "    <tr style=\"text-align: right;\">\n",
       "      <th></th>\n",
       "      <th>movie_id</th>\n",
       "      <th>title</th>\n",
       "      <th>genre</th>\n",
       "    </tr>\n",
       "  </thead>\n",
       "  <tbody>\n",
       "    <tr>\n",
       "      <th>0</th>\n",
       "      <td>1</td>\n",
       "      <td>Toy Story (1995)</td>\n",
       "      <td>Animation|Children's|Comedy</td>\n",
       "    </tr>\n",
       "    <tr>\n",
       "      <th>1</th>\n",
       "      <td>2</td>\n",
       "      <td>Jumanji (1995)</td>\n",
       "      <td>Adventure|Children's|Fantasy</td>\n",
       "    </tr>\n",
       "    <tr>\n",
       "      <th>2</th>\n",
       "      <td>3</td>\n",
       "      <td>Grumpier Old Men (1995)</td>\n",
       "      <td>Comedy|Romance</td>\n",
       "    </tr>\n",
       "    <tr>\n",
       "      <th>3</th>\n",
       "      <td>4</td>\n",
       "      <td>Waiting to Exhale (1995)</td>\n",
       "      <td>Comedy|Drama</td>\n",
       "    </tr>\n",
       "    <tr>\n",
       "      <th>4</th>\n",
       "      <td>5</td>\n",
       "      <td>Father of the Bride Part II (1995)</td>\n",
       "      <td>Comedy</td>\n",
       "    </tr>\n",
       "  </tbody>\n",
       "</table>\n",
       "</div>"
      ],
      "text/plain": [
       "   movie_id                               title                         genre\n",
       "0         1                    Toy Story (1995)   Animation|Children's|Comedy\n",
       "1         2                      Jumanji (1995)  Adventure|Children's|Fantasy\n",
       "2         3             Grumpier Old Men (1995)                Comedy|Romance\n",
       "3         4            Waiting to Exhale (1995)                  Comedy|Drama\n",
       "4         5  Father of the Bride Part II (1995)                        Comedy"
      ]
     },
     "execution_count": 7,
     "metadata": {},
     "output_type": "execute_result"
    }
   ],
   "source": [
    "# 영화 제목을 보기 위해 메타 데이터를 읽어옵니다.\n",
    "movie_file_path = os.getenv('HOME') + '/aiffel/recommendata_iu/data/ml-1m/movies.dat'\n",
    "cols = ['movie_id', 'title', 'genre'] \n",
    "movies = pd.read_csv(movie_file_path, sep='::', names=cols, engine='python', encoding='ISO-8859-1')\n",
    "movies.head()"
   ]
  },
  {
   "cell_type": "markdown",
   "metadata": {
    "id": "F2H8UoloqMaI"
   },
   "source": [
    "---\n",
    "## Step 2. 분석\n",
    "- ratings에 있는 유니크한 영화 개수\n",
    "- ratings에 있는 유니크한 사용자 수\n",
    "- 가장 인기 있는 영화 30개(인기순)"
   ]
  },
  {
   "cell_type": "code",
   "execution_count": 8,
   "metadata": {
    "colab": {
     "base_uri": "https://localhost:8080/"
    },
    "executionInfo": {
     "elapsed": 36,
     "status": "ok",
     "timestamp": 1667542916899,
     "user": {
      "displayName": "Seojoon Kang",
      "userId": "03671467470939808326"
     },
     "user_tz": -540
    },
    "id": "-_R2FaU46p6A",
    "outputId": "a8530401-5335-4647-fa7b-b33e47f83b3d"
   },
   "outputs": [
    {
     "data": {
      "text/plain": [
       "3628"
      ]
     },
     "execution_count": 8,
     "metadata": {},
     "output_type": "execute_result"
    }
   ],
   "source": [
    "# ratings에 있는 유니크한 영화 개수\n",
    "ratings['movie_id'].nunique()"
   ]
  },
  {
   "cell_type": "code",
   "execution_count": 9,
   "metadata": {
    "colab": {
     "base_uri": "https://localhost:8080/"
    },
    "executionInfo": {
     "elapsed": 31,
     "status": "ok",
     "timestamp": 1667542916901,
     "user": {
      "displayName": "Seojoon Kang",
      "userId": "03671467470939808326"
     },
     "user_tz": -540
    },
    "id": "9dg0zMNk6pwG",
    "outputId": "dcd2353c-43b6-4960-f72f-a0ac1b960c42"
   },
   "outputs": [
    {
     "data": {
      "text/plain": [
       "6039"
      ]
     },
     "execution_count": 9,
     "metadata": {},
     "output_type": "execute_result"
    }
   ],
   "source": [
    "# ratings에 있는 유니크한 사용자 수\n",
    "ratings['user_id'].nunique()"
   ]
  },
  {
   "cell_type": "code",
   "execution_count": 10,
   "metadata": {
    "colab": {
     "base_uri": "https://localhost:8080/",
     "height": 363
    },
    "executionInfo": {
     "elapsed": 837,
     "status": "ok",
     "timestamp": 1667542917711,
     "user": {
      "displayName": "Seojoon Kang",
      "userId": "03671467470939808326"
     },
     "user_tz": -540
    },
    "id": "57hGcjPg6plj",
    "outputId": "1936257e-6237-4275-d0f8-87dd7b81a050"
   },
   "outputs": [
    {
     "data": {
      "text/html": [
       "<div>\n",
       "<style scoped>\n",
       "    .dataframe tbody tr th:only-of-type {\n",
       "        vertical-align: middle;\n",
       "    }\n",
       "\n",
       "    .dataframe tbody tr th {\n",
       "        vertical-align: top;\n",
       "    }\n",
       "\n",
       "    .dataframe thead th {\n",
       "        text-align: right;\n",
       "    }\n",
       "</style>\n",
       "<table border=\"1\" class=\"dataframe\">\n",
       "  <thead>\n",
       "    <tr style=\"text-align: right;\">\n",
       "      <th></th>\n",
       "      <th>user_id</th>\n",
       "      <th>movie_id</th>\n",
       "      <th>counts</th>\n",
       "      <th>timestamp</th>\n",
       "      <th>title</th>\n",
       "      <th>genre</th>\n",
       "    </tr>\n",
       "  </thead>\n",
       "  <tbody>\n",
       "    <tr>\n",
       "      <th>0</th>\n",
       "      <td>1</td>\n",
       "      <td>1193</td>\n",
       "      <td>5</td>\n",
       "      <td>978300760</td>\n",
       "      <td>One Flew Over the Cuckoo's Nest (1975)</td>\n",
       "      <td>Drama</td>\n",
       "    </tr>\n",
       "    <tr>\n",
       "      <th>1</th>\n",
       "      <td>2</td>\n",
       "      <td>1193</td>\n",
       "      <td>5</td>\n",
       "      <td>978298413</td>\n",
       "      <td>One Flew Over the Cuckoo's Nest (1975)</td>\n",
       "      <td>Drama</td>\n",
       "    </tr>\n",
       "    <tr>\n",
       "      <th>2</th>\n",
       "      <td>12</td>\n",
       "      <td>1193</td>\n",
       "      <td>4</td>\n",
       "      <td>978220179</td>\n",
       "      <td>One Flew Over the Cuckoo's Nest (1975)</td>\n",
       "      <td>Drama</td>\n",
       "    </tr>\n",
       "    <tr>\n",
       "      <th>3</th>\n",
       "      <td>15</td>\n",
       "      <td>1193</td>\n",
       "      <td>4</td>\n",
       "      <td>978199279</td>\n",
       "      <td>One Flew Over the Cuckoo's Nest (1975)</td>\n",
       "      <td>Drama</td>\n",
       "    </tr>\n",
       "    <tr>\n",
       "      <th>4</th>\n",
       "      <td>17</td>\n",
       "      <td>1193</td>\n",
       "      <td>5</td>\n",
       "      <td>978158471</td>\n",
       "      <td>One Flew Over the Cuckoo's Nest (1975)</td>\n",
       "      <td>Drama</td>\n",
       "    </tr>\n",
       "    <tr>\n",
       "      <th>5</th>\n",
       "      <td>18</td>\n",
       "      <td>1193</td>\n",
       "      <td>4</td>\n",
       "      <td>978156168</td>\n",
       "      <td>One Flew Over the Cuckoo's Nest (1975)</td>\n",
       "      <td>Drama</td>\n",
       "    </tr>\n",
       "    <tr>\n",
       "      <th>6</th>\n",
       "      <td>19</td>\n",
       "      <td>1193</td>\n",
       "      <td>5</td>\n",
       "      <td>982730936</td>\n",
       "      <td>One Flew Over the Cuckoo's Nest (1975)</td>\n",
       "      <td>Drama</td>\n",
       "    </tr>\n",
       "    <tr>\n",
       "      <th>7</th>\n",
       "      <td>24</td>\n",
       "      <td>1193</td>\n",
       "      <td>5</td>\n",
       "      <td>978136709</td>\n",
       "      <td>One Flew Over the Cuckoo's Nest (1975)</td>\n",
       "      <td>Drama</td>\n",
       "    </tr>\n",
       "    <tr>\n",
       "      <th>8</th>\n",
       "      <td>28</td>\n",
       "      <td>1193</td>\n",
       "      <td>3</td>\n",
       "      <td>978125194</td>\n",
       "      <td>One Flew Over the Cuckoo's Nest (1975)</td>\n",
       "      <td>Drama</td>\n",
       "    </tr>\n",
       "    <tr>\n",
       "      <th>9</th>\n",
       "      <td>33</td>\n",
       "      <td>1193</td>\n",
       "      <td>5</td>\n",
       "      <td>978557765</td>\n",
       "      <td>One Flew Over the Cuckoo's Nest (1975)</td>\n",
       "      <td>Drama</td>\n",
       "    </tr>\n",
       "  </tbody>\n",
       "</table>\n",
       "</div>"
      ],
      "text/plain": [
       "   user_id  movie_id  counts  timestamp  \\\n",
       "0        1      1193       5  978300760   \n",
       "1        2      1193       5  978298413   \n",
       "2       12      1193       4  978220179   \n",
       "3       15      1193       4  978199279   \n",
       "4       17      1193       5  978158471   \n",
       "5       18      1193       4  978156168   \n",
       "6       19      1193       5  982730936   \n",
       "7       24      1193       5  978136709   \n",
       "8       28      1193       3  978125194   \n",
       "9       33      1193       5  978557765   \n",
       "\n",
       "                                    title  genre  \n",
       "0  One Flew Over the Cuckoo's Nest (1975)  Drama  \n",
       "1  One Flew Over the Cuckoo's Nest (1975)  Drama  \n",
       "2  One Flew Over the Cuckoo's Nest (1975)  Drama  \n",
       "3  One Flew Over the Cuckoo's Nest (1975)  Drama  \n",
       "4  One Flew Over the Cuckoo's Nest (1975)  Drama  \n",
       "5  One Flew Over the Cuckoo's Nest (1975)  Drama  \n",
       "6  One Flew Over the Cuckoo's Nest (1975)  Drama  \n",
       "7  One Flew Over the Cuckoo's Nest (1975)  Drama  \n",
       "8  One Flew Over the Cuckoo's Nest (1975)  Drama  \n",
       "9  One Flew Over the Cuckoo's Nest (1975)  Drama  "
      ]
     },
     "execution_count": 10,
     "metadata": {},
     "output_type": "execute_result"
    }
   ],
   "source": [
    "movies_data = pd.merge(left = ratings , right = movies, how = \"inner\", on = \"movie_id\")\n",
    "movies_data.head(10)"
   ]
  },
  {
   "cell_type": "code",
   "execution_count": 11,
   "metadata": {
    "colab": {
     "base_uri": "https://localhost:8080/"
    },
    "executionInfo": {
     "elapsed": 30,
     "status": "ok",
     "timestamp": 1667542917721,
     "user": {
      "displayName": "Seojoon Kang",
      "userId": "03671467470939808326"
     },
     "user_tz": -540
    },
    "id": "zsTjxc9J7Uhe",
    "outputId": "a649daa1-9e4c-4b88-b6df-5f6a684df815"
   },
   "outputs": [
    {
     "data": {
      "text/plain": [
       "user_id      0\n",
       "movie_id     0\n",
       "counts       0\n",
       "timestamp    0\n",
       "title        0\n",
       "genre        0\n",
       "dtype: int64"
      ]
     },
     "execution_count": 11,
     "metadata": {},
     "output_type": "execute_result"
    }
   ],
   "source": [
    "# 결측치 확인\n",
    "movies_data.isnull().sum()"
   ]
  },
  {
   "cell_type": "code",
   "execution_count": 12,
   "metadata": {
    "colab": {
     "base_uri": "https://localhost:8080/"
    },
    "executionInfo": {
     "elapsed": 627,
     "status": "ok",
     "timestamp": 1667542918329,
     "user": {
      "displayName": "Seojoon Kang",
      "userId": "03671467470939808326"
     },
     "user_tz": -540
    },
    "id": "kEWPSkcA7W7E",
    "outputId": "86a35f28-70b5-4ad9-a30a-b3342a84dcf6"
   },
   "outputs": [
    {
     "data": {
      "text/plain": [
       "title\n",
       "American Beauty (1999)                                   3211\n",
       "Star Wars: Episode IV - A New Hope (1977)                2910\n",
       "Star Wars: Episode V - The Empire Strikes Back (1980)    2885\n",
       "Star Wars: Episode VI - Return of the Jedi (1983)        2716\n",
       "Saving Private Ryan (1998)                               2561\n",
       "Terminator 2: Judgment Day (1991)                        2509\n",
       "Silence of the Lambs, The (1991)                         2498\n",
       "Raiders of the Lost Ark (1981)                           2473\n",
       "Back to the Future (1985)                                2460\n",
       "Matrix, The (1999)                                       2434\n",
       "Jurassic Park (1993)                                     2413\n",
       "Sixth Sense, The (1999)                                  2385\n",
       "Fargo (1996)                                             2371\n",
       "Braveheart (1995)                                        2314\n",
       "Men in Black (1997)                                      2297\n",
       "Schindler's List (1993)                                  2257\n",
       "Princess Bride, The (1987)                               2252\n",
       "Shakespeare in Love (1998)                               2213\n",
       "L.A. Confidential (1997)                                 2210\n",
       "Shawshank Redemption, The (1994)                         2194\n",
       "Godfather, The (1972)                                    2167\n",
       "Groundhog Day (1993)                                     2121\n",
       "E.T. the Extra-Terrestrial (1982)                        2102\n",
       "Being John Malkovich (1999)                              2066\n",
       "Ghostbusters (1984)                                      2051\n",
       "Pulp Fiction (1994)                                      2030\n",
       "Forrest Gump (1994)                                      2022\n",
       "Terminator, The (1984)                                   2019\n",
       "Toy Story (1995)                                         2000\n",
       "Fugitive, The (1993)                                     1941\n",
       "Name: counts, dtype: int64"
      ]
     },
     "execution_count": 12,
     "metadata": {},
     "output_type": "execute_result"
    }
   ],
   "source": [
    "# 평점 3,4,5 모두 인기있는 경우라고 정한다.\n",
    "# 3,4,5점을 한번 받으면 1 count로 정하고, 각 영화에 대한 총 count수를 로 정렬한다. \n",
    "movies_count = movies_data.groupby('title')['counts'].count()\n",
    "\n",
    "movies_count.sort_values(ascending=False).head(30)"
   ]
  },
  {
   "cell_type": "markdown",
   "metadata": {
    "id": "Mo-QkbppqUp8"
   },
   "source": [
    "---\n",
    "## Step 3. 선호하는 영화를 5가지 골라서 ratings에 추가"
   ]
  },
  {
   "cell_type": "code",
   "execution_count": 13,
   "metadata": {
    "colab": {
     "base_uri": "https://localhost:8080/"
    },
    "executionInfo": {
     "elapsed": 49,
     "status": "ok",
     "timestamp": 1667542918333,
     "user": {
      "displayName": "Seojoon Kang",
      "userId": "03671467470939808326"
     },
     "user_tz": -540
    },
    "id": "s8vw0kmA8AKu",
    "outputId": "006fea77-17d2-4c77-ffcf-f66f6709a3f2"
   },
   "outputs": [
    {
     "data": {
      "text/plain": [
       "2571"
      ]
     },
     "execution_count": 13,
     "metadata": {},
     "output_type": "execute_result"
    }
   ],
   "source": [
    "# [title] input -> [movie_id] output\n",
    "def title_in_id_out(title):\n",
    "    a=movies_data[movies_data['title'].isin([title])] # title칼럼중 인자로 들어온 title과 같은 행렬 추출\n",
    "    mv_id=a.iloc[0,1] #추출된 행렬중 0번째 행의 1번째칼럼[movie_id] 값 가져온다.\n",
    "    return mv_id\n",
    "#title가 'Matrix, The (1999)'인 movie_id 출력\n",
    "title_in_id_out('Matrix, The (1999)')"
   ]
  },
  {
   "cell_type": "code",
   "execution_count": 14,
   "metadata": {
    "colab": {
     "base_uri": "https://localhost:8080/",
     "height": 35
    },
    "executionInfo": {
     "elapsed": 45,
     "status": "ok",
     "timestamp": 1667542918338,
     "user": {
      "displayName": "Seojoon Kang",
      "userId": "03671467470939808326"
     },
     "user_tz": -540
    },
    "id": "v457d42n8QBk",
    "outputId": "48821ca9-d468-4028-c3df-62f4dfdefc7e"
   },
   "outputs": [
    {
     "data": {
      "text/plain": [
       "'Matrix, The (1999)'"
      ]
     },
     "execution_count": 14,
     "metadata": {},
     "output_type": "execute_result"
    }
   ],
   "source": [
    "# [movie_id] output -> [title] input\n",
    "def id_in_title_out(movie_id):\n",
    "    a=movies_data[movies_data['movie_id'].isin([movie_id])] # movie_id칼럼중 인자에 들어온 영화id와 같은 행렬 추출\n",
    "    title=a.iloc[0,4] #추출된 행렬중 0번째 행의 4번째칼럼[title] 값 가져온다.\n",
    "    return title\n",
    "\n",
    "#moive_id가 2571인 title값 출력\n",
    "id_in_title_out(2571)"
   ]
  },
  {
   "cell_type": "code",
   "execution_count": 15,
   "metadata": {
    "colab": {
     "base_uri": "https://localhost:8080/"
    },
    "executionInfo": {
     "elapsed": 44,
     "status": "ok",
     "timestamp": 1667542918339,
     "user": {
      "displayName": "Seojoon Kang",
      "userId": "03671467470939808326"
     },
     "user_tz": -540
    },
    "id": "lW-F81vv8Xo0",
    "outputId": "943de097-cfac-46f1-b6fa-ea7713ca1915"
   },
   "outputs": [
    {
     "name": "stdout",
     "output_type": "stream",
     "text": [
      "Title :  Matrix, The (1999) \t\t Movie ID :  2571\n",
      "Title :  Matrix, The (1999) \t\t Movie ID :  2571\n",
      "Title :  Back to the Future (1985) \t\t Movie ID :  1270\n",
      "Title :  Back to the Future (1985) \t\t Movie ID :  1270\n",
      "Title :  Men in Black (1997) \t\t Movie ID :  1580\n",
      "Title :  Men in Black (1997) \t\t Movie ID :  1580\n",
      "Title :  Terminator, The (1984) \t\t Movie ID :  1240\n",
      "Title :  Terminator, The (1984) \t\t Movie ID :  1240\n",
      "Title :  Jurassic Park (1993) \t\t Movie ID :  480\n",
      "Title :  Jurassic Park (1993) \t\t Movie ID :  480\n"
     ]
    },
    {
     "data": {
      "text/plain": [
       "[2571, 1270, 1580, 1240, 480]"
      ]
     },
     "execution_count": 15,
     "metadata": {},
     "output_type": "execute_result"
    }
   ],
   "source": [
    "# 영화 이름은 꼭 데이터셋에 있는 것과 동일하게 맞춰주세요. \n",
    "#선호 영화 리스트 생성\n",
    "my_favorite = ['Matrix, The (1999)', 'Back to the Future (1985)', 'Men in Black (1997)', 'Terminator, The (1984)' ,'Jurassic Park (1993)']\n",
    "my_movie_id = []\n",
    "\n",
    "\n",
    "#선호 영화 딕셔너리 생성\n",
    "dir_favorite ={} #{'title' :'movie_id'} 딕셔너리\n",
    " \n",
    "for title in my_favorite:\n",
    "    mv_id = title_in_id_out(title)\n",
    "    my_movie_id.append(mv_id) \n",
    "    print('Title : ',title,'\\t\\t Movie ID : ', mv_id)\n",
    "    \n",
    "    dir_favorite[title]=int(mv_id)\n",
    "    print('Title : ',title,'\\t\\t Movie ID : ', dir_favorite[title])\n",
    "    \n",
    "       \n",
    "\n",
    "#print(movies_data.columns)\n",
    "#movies_data.sort_values(by='movie_id')\n",
    "my_movie_id"
   ]
  },
  {
   "cell_type": "code",
   "execution_count": 16,
   "metadata": {
    "colab": {
     "base_uri": "https://localhost:8080/",
     "height": 442
    },
    "executionInfo": {
     "elapsed": 664,
     "status": "ok",
     "timestamp": 1667542918967,
     "user": {
      "displayName": "Seojoon Kang",
      "userId": "03671467470939808326"
     },
     "user_tz": -540
    },
    "id": "2rIiONzy9vgI",
    "outputId": "578d39fa-f983-4993-d060-56e357970b46"
   },
   "outputs": [
    {
     "name": "stdout",
     "output_type": "stream",
     "text": [
      "6039\n"
     ]
    },
    {
     "data": {
      "text/html": [
       "<div>\n",
       "<style scoped>\n",
       "    .dataframe tbody tr th:only-of-type {\n",
       "        vertical-align: middle;\n",
       "    }\n",
       "\n",
       "    .dataframe tbody tr th {\n",
       "        vertical-align: top;\n",
       "    }\n",
       "\n",
       "    .dataframe thead th {\n",
       "        text-align: right;\n",
       "    }\n",
       "</style>\n",
       "<table border=\"1\" class=\"dataframe\">\n",
       "  <thead>\n",
       "    <tr style=\"text-align: right;\">\n",
       "      <th></th>\n",
       "      <th>user_id</th>\n",
       "      <th>movie_id</th>\n",
       "      <th>counts</th>\n",
       "      <th>timestamp</th>\n",
       "      <th>title</th>\n",
       "      <th>genre</th>\n",
       "    </tr>\n",
       "  </thead>\n",
       "  <tbody>\n",
       "    <tr>\n",
       "      <th>0</th>\n",
       "      <td>1</td>\n",
       "      <td>1193</td>\n",
       "      <td>5</td>\n",
       "      <td>978300760</td>\n",
       "      <td>One Flew Over the Cuckoo's Nest (1975)</td>\n",
       "      <td>Drama</td>\n",
       "    </tr>\n",
       "    <tr>\n",
       "      <th>31113</th>\n",
       "      <td>1</td>\n",
       "      <td>2294</td>\n",
       "      <td>4</td>\n",
       "      <td>978824291</td>\n",
       "      <td>Antz (1998)</td>\n",
       "      <td>Animation|Children's</td>\n",
       "    </tr>\n",
       "    <tr>\n",
       "      <th>31674</th>\n",
       "      <td>1</td>\n",
       "      <td>3186</td>\n",
       "      <td>4</td>\n",
       "      <td>978300019</td>\n",
       "      <td>Girl, Interrupted (1999)</td>\n",
       "      <td>Drama</td>\n",
       "    </tr>\n",
       "    <tr>\n",
       "      <th>32044</th>\n",
       "      <td>1</td>\n",
       "      <td>1566</td>\n",
       "      <td>4</td>\n",
       "      <td>978824330</td>\n",
       "      <td>Hercules (1997)</td>\n",
       "      <td>Adventure|Animation|Children's|Comedy|Musical</td>\n",
       "    </tr>\n",
       "    <tr>\n",
       "      <th>32415</th>\n",
       "      <td>1</td>\n",
       "      <td>588</td>\n",
       "      <td>4</td>\n",
       "      <td>978824268</td>\n",
       "      <td>Aladdin (1992)</td>\n",
       "      <td>Animation|Children's|Comedy|Musical</td>\n",
       "    </tr>\n",
       "    <tr>\n",
       "      <th>...</th>\n",
       "      <td>...</td>\n",
       "      <td>...</td>\n",
       "      <td>...</td>\n",
       "      <td>...</td>\n",
       "      <td>...</td>\n",
       "      <td>...</td>\n",
       "    </tr>\n",
       "    <tr>\n",
       "      <th>657728</th>\n",
       "      <td>6040</td>\n",
       "      <td>334</td>\n",
       "      <td>4</td>\n",
       "      <td>957717503</td>\n",
       "      <td>Vanya on 42nd Street (1994)</td>\n",
       "      <td>Drama</td>\n",
       "    </tr>\n",
       "    <tr>\n",
       "      <th>393446</th>\n",
       "      <td>6040</td>\n",
       "      <td>1294</td>\n",
       "      <td>4</td>\n",
       "      <td>957716949</td>\n",
       "      <td>M*A*S*H (1970)</td>\n",
       "      <td>Comedy|War</td>\n",
       "    </tr>\n",
       "    <tr>\n",
       "      <th>253075</th>\n",
       "      <td>6040</td>\n",
       "      <td>994</td>\n",
       "      <td>3</td>\n",
       "      <td>960972693</td>\n",
       "      <td>Big Night (1996)</td>\n",
       "      <td>Drama</td>\n",
       "    </tr>\n",
       "    <tr>\n",
       "      <th>127665</th>\n",
       "      <td>6040</td>\n",
       "      <td>2396</td>\n",
       "      <td>3</td>\n",
       "      <td>956704475</td>\n",
       "      <td>Shakespeare in Love (1998)</td>\n",
       "      <td>Comedy|Romance</td>\n",
       "    </tr>\n",
       "    <tr>\n",
       "      <th>738957</th>\n",
       "      <td>6040</td>\n",
       "      <td>2725</td>\n",
       "      <td>4</td>\n",
       "      <td>997454180</td>\n",
       "      <td>Twin Falls Idaho (1999)</td>\n",
       "      <td>Drama</td>\n",
       "    </tr>\n",
       "  </tbody>\n",
       "</table>\n",
       "<p>836478 rows × 6 columns</p>\n",
       "</div>"
      ],
      "text/plain": [
       "        user_id  movie_id  counts  timestamp  \\\n",
       "0             1      1193       5  978300760   \n",
       "31113         1      2294       4  978824291   \n",
       "31674         1      3186       4  978300019   \n",
       "32044         1      1566       4  978824330   \n",
       "32415         1       588       4  978824268   \n",
       "...         ...       ...     ...        ...   \n",
       "657728     6040       334       4  957717503   \n",
       "393446     6040      1294       4  957716949   \n",
       "253075     6040       994       3  960972693   \n",
       "127665     6040      2396       3  956704475   \n",
       "738957     6040      2725       4  997454180   \n",
       "\n",
       "                                         title  \\\n",
       "0       One Flew Over the Cuckoo's Nest (1975)   \n",
       "31113                              Antz (1998)   \n",
       "31674                 Girl, Interrupted (1999)   \n",
       "32044                          Hercules (1997)   \n",
       "32415                           Aladdin (1992)   \n",
       "...                                        ...   \n",
       "657728             Vanya on 42nd Street (1994)   \n",
       "393446                          M*A*S*H (1970)   \n",
       "253075                        Big Night (1996)   \n",
       "127665              Shakespeare in Love (1998)   \n",
       "738957                 Twin Falls Idaho (1999)   \n",
       "\n",
       "                                                genre  \n",
       "0                                               Drama  \n",
       "31113                            Animation|Children's  \n",
       "31674                                           Drama  \n",
       "32044   Adventure|Animation|Children's|Comedy|Musical  \n",
       "32415             Animation|Children's|Comedy|Musical  \n",
       "...                                               ...  \n",
       "657728                                          Drama  \n",
       "393446                                     Comedy|War  \n",
       "253075                                          Drama  \n",
       "127665                                 Comedy|Romance  \n",
       "738957                                          Drama  \n",
       "\n",
       "[836478 rows x 6 columns]"
      ]
     },
     "execution_count": 16,
     "metadata": {},
     "output_type": "execute_result"
    }
   ],
   "source": [
    "# user_id 마지막은 6040\n",
    "# user_id은 1부터 시작해서 6040개로 끝난다면 유니크한 값은 6040개가 되어야되는데 6039개다 ,그럼 중간에 한개의 값이 없다고 추측된다.\n",
    "print(ratings['user_id'].nunique()) \n",
    "movies_data.sort_values(by='user_id',ascending=True, inplace=False)"
   ]
  },
  {
   "cell_type": "code",
   "execution_count": 17,
   "metadata": {
    "colab": {
     "base_uri": "https://localhost:8080/",
     "height": 363
    },
    "executionInfo": {
     "elapsed": 312,
     "status": "ok",
     "timestamp": 1667543400113,
     "user": {
      "displayName": "Seojoon Kang",
      "userId": "03671467470939808326"
     },
     "user_tz": -540
    },
    "id": "C1WmnOibFFbn",
    "outputId": "4aa3b6ca-9cd9-4cb5-bcd4-73c446af7ac4"
   },
   "outputs": [
    {
     "data": {
      "text/html": [
       "<div>\n",
       "<style scoped>\n",
       "    .dataframe tbody tr th:only-of-type {\n",
       "        vertical-align: middle;\n",
       "    }\n",
       "\n",
       "    .dataframe tbody tr th {\n",
       "        vertical-align: top;\n",
       "    }\n",
       "\n",
       "    .dataframe thead th {\n",
       "        text-align: right;\n",
       "    }\n",
       "</style>\n",
       "<table border=\"1\" class=\"dataframe\">\n",
       "  <thead>\n",
       "    <tr style=\"text-align: right;\">\n",
       "      <th></th>\n",
       "      <th>user_id</th>\n",
       "      <th>movie_id</th>\n",
       "      <th>counts</th>\n",
       "      <th>timestamp</th>\n",
       "    </tr>\n",
       "  </thead>\n",
       "  <tbody>\n",
       "    <tr>\n",
       "      <th>1000203</th>\n",
       "      <td>6040</td>\n",
       "      <td>1090</td>\n",
       "      <td>3</td>\n",
       "      <td>956715518.0</td>\n",
       "    </tr>\n",
       "    <tr>\n",
       "      <th>1000205</th>\n",
       "      <td>6040</td>\n",
       "      <td>1094</td>\n",
       "      <td>5</td>\n",
       "      <td>956704887.0</td>\n",
       "    </tr>\n",
       "    <tr>\n",
       "      <th>1000206</th>\n",
       "      <td>6040</td>\n",
       "      <td>562</td>\n",
       "      <td>5</td>\n",
       "      <td>956704746.0</td>\n",
       "    </tr>\n",
       "    <tr>\n",
       "      <th>1000207</th>\n",
       "      <td>6040</td>\n",
       "      <td>1096</td>\n",
       "      <td>4</td>\n",
       "      <td>956715648.0</td>\n",
       "    </tr>\n",
       "    <tr>\n",
       "      <th>1000208</th>\n",
       "      <td>6040</td>\n",
       "      <td>1097</td>\n",
       "      <td>4</td>\n",
       "      <td>956715569.0</td>\n",
       "    </tr>\n",
       "    <tr>\n",
       "      <th>0</th>\n",
       "      <td>unknown</td>\n",
       "      <td>2571</td>\n",
       "      <td>5</td>\n",
       "      <td>NaN</td>\n",
       "    </tr>\n",
       "    <tr>\n",
       "      <th>1</th>\n",
       "      <td>unknown</td>\n",
       "      <td>1270</td>\n",
       "      <td>5</td>\n",
       "      <td>NaN</td>\n",
       "    </tr>\n",
       "    <tr>\n",
       "      <th>2</th>\n",
       "      <td>unknown</td>\n",
       "      <td>1580</td>\n",
       "      <td>5</td>\n",
       "      <td>NaN</td>\n",
       "    </tr>\n",
       "    <tr>\n",
       "      <th>3</th>\n",
       "      <td>unknown</td>\n",
       "      <td>1240</td>\n",
       "      <td>5</td>\n",
       "      <td>NaN</td>\n",
       "    </tr>\n",
       "    <tr>\n",
       "      <th>4</th>\n",
       "      <td>unknown</td>\n",
       "      <td>480</td>\n",
       "      <td>5</td>\n",
       "      <td>NaN</td>\n",
       "    </tr>\n",
       "  </tbody>\n",
       "</table>\n",
       "</div>"
      ],
      "text/plain": [
       "         user_id  movie_id  counts    timestamp\n",
       "1000203     6040      1090       3  956715518.0\n",
       "1000205     6040      1094       5  956704887.0\n",
       "1000206     6040       562       5  956704746.0\n",
       "1000207     6040      1096       4  956715648.0\n",
       "1000208     6040      1097       4  956715569.0\n",
       "0        unknown      2571       5          NaN\n",
       "1        unknown      1270       5          NaN\n",
       "2        unknown      1580       5          NaN\n",
       "3        unknown      1240       5          NaN\n",
       "4        unknown       480       5          NaN"
      ]
     },
     "execution_count": 17,
     "metadata": {},
     "output_type": "execute_result"
    }
   ],
   "source": [
    "#my_moivelist = pd.DataFrame({'user_id': [0]*5, 'movie_id': my_movie_id, 'count':[5]*5})\n",
    "my_moivelist = pd.DataFrame({'user_id': ['unknown']*5, 'movie_id': my_movie_id, 'counts':[5]*5})\n",
    "\n",
    "# 사용자는 6039이였기때문에  나에대한 유저번호는 6040으로 설정한다.\n",
    "if not ratings.isin({'user_id':[6041]})['user_id'].any():  # user_id에 'zimin'이라는 데이터가 없다면\n",
    "    ratings = ratings.append(my_moivelist)              \n",
    "\n",
    "ratings.tail(10)"
   ]
  },
  {
   "cell_type": "code",
   "execution_count": 18,
   "metadata": {
    "colab": {
     "base_uri": "https://localhost:8080/",
     "height": 243
    },
    "executionInfo": {
     "elapsed": 709,
     "status": "ok",
     "timestamp": 1667543417757,
     "user": {
      "displayName": "Seojoon Kang",
      "userId": "03671467470939808326"
     },
     "user_tz": -540
    },
    "id": "-LvR12ZGF8ib",
    "outputId": "a9905b51-d018-4f31-852d-b23ccbb18bdd"
   },
   "outputs": [
    {
     "name": "stdout",
     "output_type": "stream",
     "text": [
      "기본행 개수 836478\n",
      "추가후 행 개수 836483\n"
     ]
    },
    {
     "data": {
      "text/html": [
       "<div>\n",
       "<style scoped>\n",
       "    .dataframe tbody tr th:only-of-type {\n",
       "        vertical-align: middle;\n",
       "    }\n",
       "\n",
       "    .dataframe tbody tr th {\n",
       "        vertical-align: top;\n",
       "    }\n",
       "\n",
       "    .dataframe thead th {\n",
       "        text-align: right;\n",
       "    }\n",
       "</style>\n",
       "<table border=\"1\" class=\"dataframe\">\n",
       "  <thead>\n",
       "    <tr style=\"text-align: right;\">\n",
       "      <th></th>\n",
       "      <th>user_id</th>\n",
       "      <th>movie_id</th>\n",
       "      <th>counts</th>\n",
       "      <th>timestamp</th>\n",
       "      <th>title</th>\n",
       "      <th>genre</th>\n",
       "    </tr>\n",
       "  </thead>\n",
       "  <tbody>\n",
       "    <tr>\n",
       "      <th>836478</th>\n",
       "      <td>5851</td>\n",
       "      <td>3607</td>\n",
       "      <td>5</td>\n",
       "      <td>9.577566e+08</td>\n",
       "      <td>One Little Indian (1973)</td>\n",
       "      <td>Comedy|Drama|Western</td>\n",
       "    </tr>\n",
       "    <tr>\n",
       "      <th>836479</th>\n",
       "      <td>5854</td>\n",
       "      <td>3026</td>\n",
       "      <td>4</td>\n",
       "      <td>9.583469e+08</td>\n",
       "      <td>Slaughterhouse (1987)</td>\n",
       "      <td>Horror</td>\n",
       "    </tr>\n",
       "    <tr>\n",
       "      <th>836480</th>\n",
       "      <td>5854</td>\n",
       "      <td>690</td>\n",
       "      <td>3</td>\n",
       "      <td>9.577443e+08</td>\n",
       "      <td>Promise, The (Versprechen, Das) (1994)</td>\n",
       "      <td>Romance</td>\n",
       "    </tr>\n",
       "    <tr>\n",
       "      <th>836481</th>\n",
       "      <td>5938</td>\n",
       "      <td>2909</td>\n",
       "      <td>4</td>\n",
       "      <td>9.572734e+08</td>\n",
       "      <td>Five Wives, Three Secretaries and Me (1998)</td>\n",
       "      <td>Documentary</td>\n",
       "    </tr>\n",
       "    <tr>\n",
       "      <th>836482</th>\n",
       "      <td>5948</td>\n",
       "      <td>1360</td>\n",
       "      <td>5</td>\n",
       "      <td>1.016564e+09</td>\n",
       "      <td>Identification of a Woman (Identificazione di ...</td>\n",
       "      <td>Drama</td>\n",
       "    </tr>\n",
       "  </tbody>\n",
       "</table>\n",
       "</div>"
      ],
      "text/plain": [
       "       user_id  movie_id  counts     timestamp  \\\n",
       "836478    5851      3607       5  9.577566e+08   \n",
       "836479    5854      3026       4  9.583469e+08   \n",
       "836480    5854       690       3  9.577443e+08   \n",
       "836481    5938      2909       4  9.572734e+08   \n",
       "836482    5948      1360       5  1.016564e+09   \n",
       "\n",
       "                                                    title  \\\n",
       "836478                           One Little Indian (1973)   \n",
       "836479                              Slaughterhouse (1987)   \n",
       "836480             Promise, The (Versprechen, Das) (1994)   \n",
       "836481        Five Wives, Three Secretaries and Me (1998)   \n",
       "836482  Identification of a Woman (Identificazione di ...   \n",
       "\n",
       "                       genre  \n",
       "836478  Comedy|Drama|Western  \n",
       "836479                Horror  \n",
       "836480               Romance  \n",
       "836481           Documentary  \n",
       "836482                 Drama  "
      ]
     },
     "execution_count": 18,
     "metadata": {},
     "output_type": "execute_result"
    }
   ],
   "source": [
    "print('기본행 개수',len(movies_data))\n",
    "movies_data = pd.merge(left = ratings , right = movies, how = \"inner\", on = \"movie_id\")\n",
    "movies_data.head(10)\n",
    "print('추가후 행 개수',len(movies_data))\n",
    "movies_data.tail(5)"
   ]
  },
  {
   "cell_type": "code",
   "execution_count": 19,
   "metadata": {
    "colab": {
     "base_uri": "https://localhost:8080/",
     "height": 424
    },
    "executionInfo": {
     "elapsed": 296,
     "status": "ok",
     "timestamp": 1667543421080,
     "user": {
      "displayName": "Seojoon Kang",
      "userId": "03671467470939808326"
     },
     "user_tz": -540
    },
    "id": "RtqOyFywGBgg",
    "outputId": "6244d038-05c3-46d0-cf3b-96ad970571c2"
   },
   "outputs": [
    {
     "data": {
      "text/html": [
       "<div>\n",
       "<style scoped>\n",
       "    .dataframe tbody tr th:only-of-type {\n",
       "        vertical-align: middle;\n",
       "    }\n",
       "\n",
       "    .dataframe tbody tr th {\n",
       "        vertical-align: top;\n",
       "    }\n",
       "\n",
       "    .dataframe thead th {\n",
       "        text-align: right;\n",
       "    }\n",
       "</style>\n",
       "<table border=\"1\" class=\"dataframe\">\n",
       "  <thead>\n",
       "    <tr style=\"text-align: right;\">\n",
       "      <th></th>\n",
       "      <th>user_id</th>\n",
       "      <th>movie_id</th>\n",
       "      <th>counts</th>\n",
       "    </tr>\n",
       "  </thead>\n",
       "  <tbody>\n",
       "    <tr>\n",
       "      <th>0</th>\n",
       "      <td>1</td>\n",
       "      <td>1193</td>\n",
       "      <td>5</td>\n",
       "    </tr>\n",
       "    <tr>\n",
       "      <th>1</th>\n",
       "      <td>2</td>\n",
       "      <td>1193</td>\n",
       "      <td>5</td>\n",
       "    </tr>\n",
       "    <tr>\n",
       "      <th>2</th>\n",
       "      <td>12</td>\n",
       "      <td>1193</td>\n",
       "      <td>4</td>\n",
       "    </tr>\n",
       "    <tr>\n",
       "      <th>3</th>\n",
       "      <td>15</td>\n",
       "      <td>1193</td>\n",
       "      <td>4</td>\n",
       "    </tr>\n",
       "    <tr>\n",
       "      <th>4</th>\n",
       "      <td>17</td>\n",
       "      <td>1193</td>\n",
       "      <td>5</td>\n",
       "    </tr>\n",
       "    <tr>\n",
       "      <th>...</th>\n",
       "      <td>...</td>\n",
       "      <td>...</td>\n",
       "      <td>...</td>\n",
       "    </tr>\n",
       "    <tr>\n",
       "      <th>836478</th>\n",
       "      <td>5851</td>\n",
       "      <td>3607</td>\n",
       "      <td>5</td>\n",
       "    </tr>\n",
       "    <tr>\n",
       "      <th>836479</th>\n",
       "      <td>5854</td>\n",
       "      <td>3026</td>\n",
       "      <td>4</td>\n",
       "    </tr>\n",
       "    <tr>\n",
       "      <th>836480</th>\n",
       "      <td>5854</td>\n",
       "      <td>690</td>\n",
       "      <td>3</td>\n",
       "    </tr>\n",
       "    <tr>\n",
       "      <th>836481</th>\n",
       "      <td>5938</td>\n",
       "      <td>2909</td>\n",
       "      <td>4</td>\n",
       "    </tr>\n",
       "    <tr>\n",
       "      <th>836482</th>\n",
       "      <td>5948</td>\n",
       "      <td>1360</td>\n",
       "      <td>5</td>\n",
       "    </tr>\n",
       "  </tbody>\n",
       "</table>\n",
       "<p>836483 rows × 3 columns</p>\n",
       "</div>"
      ],
      "text/plain": [
       "       user_id  movie_id  counts\n",
       "0            1      1193       5\n",
       "1            2      1193       5\n",
       "2           12      1193       4\n",
       "3           15      1193       4\n",
       "4           17      1193       5\n",
       "...        ...       ...     ...\n",
       "836478    5851      3607       5\n",
       "836479    5854      3026       4\n",
       "836480    5854       690       3\n",
       "836481    5938      2909       4\n",
       "836482    5948      1360       5\n",
       "\n",
       "[836483 rows x 3 columns]"
      ]
     },
     "execution_count": 19,
     "metadata": {},
     "output_type": "execute_result"
    }
   ],
   "source": [
    "movies_tmp= movies_data.loc[:,['user_id','movie_id','counts']]\n",
    "movies_tmp"
   ]
  },
  {
   "cell_type": "code",
   "execution_count": 20,
   "metadata": {
    "executionInfo": {
     "elapsed": 421,
     "status": "ok",
     "timestamp": 1667543430951,
     "user": {
      "displayName": "Seojoon Kang",
      "userId": "03671467470939808326"
     },
     "user_tz": -540
    },
    "id": "Qm3_kkKqGGb5"
   },
   "outputs": [],
   "source": [
    "# 고유한 유저, movie_id를 찾아내는 코드\n",
    "user_unique = movies_tmp['user_id'].unique()\n",
    "movie_unique = movies_tmp['movie_id'].unique()\n",
    "\n",
    "# 유저id, 영화id indexing 하는 코드 idx는 index의 약자입니다.\n",
    "user_to_idx = {v:k for k,v in enumerate(user_unique)}\n",
    "movie_to_idx = {v:k for k,v in enumerate(movie_unique)}"
   ]
  },
  {
   "cell_type": "code",
   "execution_count": 21,
   "metadata": {
    "colab": {
     "base_uri": "https://localhost:8080/"
    },
    "executionInfo": {
     "elapsed": 20,
     "status": "ok",
     "timestamp": 1667543431367,
     "user": {
      "displayName": "Seojoon Kang",
      "userId": "03671467470939808326"
     },
     "user_tz": -540
    },
    "id": "YfpksnX9GVPX",
    "outputId": "44f1fcf7-ec53-4c26-bd4e-db53a36747bc"
   },
   "outputs": [
    {
     "name": "stdout",
     "output_type": "stream",
     "text": [
      "user_id:1    ,user_idx:0\n",
      "user_id:2    ,user_idx:1\n",
      "user_id:12    ,user_idx:2\n",
      "user_id:15    ,user_idx:3\n",
      "user_id:17    ,user_idx:4\n",
      "user_id:18    ,user_idx:5\n",
      "user_to_idx의 사이즈: 6040\n"
     ]
    }
   ],
   "source": [
    "num=0\n",
    "for key, value in user_to_idx.items():\n",
    "    print('user_id:{}    ,user_idx:{}'.format(key, value))\n",
    "    num+=1\n",
    "    if num>5:\n",
    "        break\n",
    "print('user_to_idx의 사이즈:', len(user_to_idx))"
   ]
  },
  {
   "cell_type": "code",
   "execution_count": 22,
   "metadata": {
    "colab": {
     "base_uri": "https://localhost:8080/"
    },
    "executionInfo": {
     "elapsed": 17,
     "status": "ok",
     "timestamp": 1667543431368,
     "user": {
      "displayName": "Seojoon Kang",
      "userId": "03671467470939808326"
     },
     "user_tz": -540
    },
    "id": "4vMBUtTUGXc0",
    "outputId": "a94d6533-f629-49a6-d603-550795a590e5"
   },
   "outputs": [
    {
     "name": "stdout",
     "output_type": "stream",
     "text": [
      "movie_id:1193    ,movie_idx:0\n",
      "movie_id:661    ,movie_idx:1\n",
      "movie_id:914    ,movie_idx:2\n",
      "movie_id:3408    ,movie_idx:3\n",
      "movie_id:2355    ,movie_idx:4\n",
      "movie_id:1197    ,movie_idx:5\n",
      "movie_to_idx의 사이즈: 3628\n"
     ]
    }
   ],
   "source": [
    "num=0\n",
    "for key, value in movie_to_idx.items():\n",
    "    print('movie_id:{}    ,movie_idx:{}'.format(key, value))\n",
    "    num+=1\n",
    "    if num>5:\n",
    "        break\n",
    "print('movie_to_idx의 사이즈:', len(movie_to_idx))"
   ]
  },
  {
   "cell_type": "code",
   "execution_count": 23,
   "metadata": {
    "colab": {
     "base_uri": "https://localhost:8080/",
     "height": 460
    },
    "executionInfo": {
     "elapsed": 729,
     "status": "ok",
     "timestamp": 1667543432086,
     "user": {
      "displayName": "Seojoon Kang",
      "userId": "03671467470939808326"
     },
     "user_tz": -540
    },
    "id": "vjqcZmkwGaGa",
    "outputId": "b1733777-9d4e-4703-f205-0e022c299b90"
   },
   "outputs": [
    {
     "name": "stdout",
     "output_type": "stream",
     "text": [
      "user_id column indexing OK!!\n",
      "movie column indexing OK!!\n"
     ]
    },
    {
     "data": {
      "text/html": [
       "<div>\n",
       "<style scoped>\n",
       "    .dataframe tbody tr th:only-of-type {\n",
       "        vertical-align: middle;\n",
       "    }\n",
       "\n",
       "    .dataframe tbody tr th {\n",
       "        vertical-align: top;\n",
       "    }\n",
       "\n",
       "    .dataframe thead th {\n",
       "        text-align: right;\n",
       "    }\n",
       "</style>\n",
       "<table border=\"1\" class=\"dataframe\">\n",
       "  <thead>\n",
       "    <tr style=\"text-align: right;\">\n",
       "      <th></th>\n",
       "      <th>user_id</th>\n",
       "      <th>movie_id</th>\n",
       "      <th>counts</th>\n",
       "    </tr>\n",
       "  </thead>\n",
       "  <tbody>\n",
       "    <tr>\n",
       "      <th>0</th>\n",
       "      <td>0</td>\n",
       "      <td>0</td>\n",
       "      <td>5</td>\n",
       "    </tr>\n",
       "    <tr>\n",
       "      <th>1</th>\n",
       "      <td>1</td>\n",
       "      <td>0</td>\n",
       "      <td>5</td>\n",
       "    </tr>\n",
       "    <tr>\n",
       "      <th>2</th>\n",
       "      <td>2</td>\n",
       "      <td>0</td>\n",
       "      <td>4</td>\n",
       "    </tr>\n",
       "    <tr>\n",
       "      <th>3</th>\n",
       "      <td>3</td>\n",
       "      <td>0</td>\n",
       "      <td>4</td>\n",
       "    </tr>\n",
       "    <tr>\n",
       "      <th>4</th>\n",
       "      <td>4</td>\n",
       "      <td>0</td>\n",
       "      <td>5</td>\n",
       "    </tr>\n",
       "    <tr>\n",
       "      <th>...</th>\n",
       "      <td>...</td>\n",
       "      <td>...</td>\n",
       "      <td>...</td>\n",
       "    </tr>\n",
       "    <tr>\n",
       "      <th>836478</th>\n",
       "      <td>1621</td>\n",
       "      <td>3623</td>\n",
       "      <td>5</td>\n",
       "    </tr>\n",
       "    <tr>\n",
       "      <th>836479</th>\n",
       "      <td>3481</td>\n",
       "      <td>3624</td>\n",
       "      <td>4</td>\n",
       "    </tr>\n",
       "    <tr>\n",
       "      <th>836480</th>\n",
       "      <td>3481</td>\n",
       "      <td>3625</td>\n",
       "      <td>3</td>\n",
       "    </tr>\n",
       "    <tr>\n",
       "      <th>836481</th>\n",
       "      <td>4159</td>\n",
       "      <td>3626</td>\n",
       "      <td>4</td>\n",
       "    </tr>\n",
       "    <tr>\n",
       "      <th>836482</th>\n",
       "      <td>1648</td>\n",
       "      <td>3627</td>\n",
       "      <td>5</td>\n",
       "    </tr>\n",
       "  </tbody>\n",
       "</table>\n",
       "<p>836483 rows × 3 columns</p>\n",
       "</div>"
      ],
      "text/plain": [
       "        user_id  movie_id  counts\n",
       "0             0         0       5\n",
       "1             1         0       5\n",
       "2             2         0       4\n",
       "3             3         0       4\n",
       "4             4         0       5\n",
       "...         ...       ...     ...\n",
       "836478     1621      3623       5\n",
       "836479     3481      3624       4\n",
       "836480     3481      3625       3\n",
       "836481     4159      3626       4\n",
       "836482     1648      3627       5\n",
       "\n",
       "[836483 rows x 3 columns]"
      ]
     },
     "execution_count": 23,
     "metadata": {},
     "output_type": "execute_result"
    }
   ],
   "source": [
    "# indexing을 통해 데이터 컬럼 내 값을 바꾸는 코드\n",
    "# dictionary 자료형의 get 함수는 https://wikidocs.net/16 을 참고하세요.\n",
    "\n",
    "# user_to_idx.get을 통해 user_id 컬럼의 모든 값을 인덱싱한 Series를 구해 봅시다. \n",
    "# 혹시 정상적으로 인덱싱되지 않은 row가 있다면 인덱스가 NaN이 될 테니 dropna()로 제거합니다. \n",
    "temp_user_data = movies_tmp['user_id'].map(user_to_idx.get).dropna()\n",
    "if len(temp_user_data) == len(movies_tmp):   # 모든 row가 정상적으로 인덱싱되었다면\n",
    "    print('user_id column indexing OK!!')\n",
    "    movies_tmp['user_id'] = temp_user_data   # movies_tmp['user_id']을 인덱싱된 Series로 교체해 줍니다. \n",
    "else:\n",
    "    print('user_id column indexing Fail!!')\n",
    "\n",
    "#movie_id를 통해 movie 컬럼도 동일한 방식으로 인덱싱해 줍니다. \n",
    "temp_movie_data = movies_tmp['movie_id'].map(movie_to_idx.get).dropna()\n",
    "if len(temp_movie_data) == len(movies_tmp):\n",
    "    print('movie column indexing OK!!')\n",
    "    movies_tmp['movie_id'] = temp_movie_data\n",
    "else:\n",
    "    print('movie column indexing Fail!!')\n",
    "\n",
    "movies_tmp"
   ]
  },
  {
   "cell_type": "markdown",
   "metadata": {
    "id": "S7Qw1bz2qboE"
   },
   "source": [
    "---\n",
    "## Step 4. CSR(Compressed Sparse Row) Matrix"
   ]
  },
  {
   "attachments": {
    "image-2.png": {
     "image/png": "[encoded data removed]"
    }
   },
   "cell_type": "markdown",
   "metadata": {},
   "source": [
    "![image-2.png](attachment:image-2.png)"
   ]
  },
  {
   "cell_type": "code",
   "execution_count": 24,
   "metadata": {
    "executionInfo": {
     "elapsed": 18,
     "status": "ok",
     "timestamp": 1667543432088,
     "user": {
      "displayName": "Seojoon Kang",
      "userId": "03671467470939808326"
     },
     "user_tz": -540
    },
    "id": "HSXFiOR2G0qk"
   },
   "outputs": [
    {
     "data": {
      "text/plain": [
       "<6040x3628 sparse matrix of type '<class 'numpy.int64'>'\n",
       "\twith 836483 stored elements in Compressed Sparse Row format>"
      ]
     },
     "execution_count": 24,
     "metadata": {},
     "output_type": "execute_result"
    }
   ],
   "source": [
    "# 실습 위에 설명보고 이해해서 만들어보기\n",
    "from scipy.sparse import csr_matrix\n",
    "\n",
    "num_user = movies_tmp['user_id'].nunique()\n",
    "num_movie = movies_tmp['movie_id'].nunique()\n",
    "\n",
    "\n",
    "#=> csr_matrix((data, indices, indptr), shape=(row, col))\n",
    "csr_data = csr_matrix((movies_tmp['counts'], (movies_tmp['user_id'], movies_tmp['movie_id'])), shape= (num_user, num_movie))\n",
    "csr_data"
   ]
  },
  {
   "cell_type": "markdown",
   "metadata": {
    "id": "tuffZgX8qgjU"
   },
   "source": [
    "---\n",
    "## Step 5. als_model = AlternatingLeastSquares 모델 구성/훈련\n",
    "- implicit 패키지는 이전 스텝에서 설명한 암묵적(implicit) dataset을 사용하는 다양한 모델을 굉장히 빠르게 학습할 수 있는 패키지입니다.\n",
    "- 이 패키지에 구현된 als(AlternatingLeastSquares) 모델을 사용하겠습니다. Matrix Factorization에서 쪼개진 두 Feature Matrix를 한꺼번에 훈련하는 것은 잘 수렴하지 않기 때문에, 한쪽을 고정시키고 다른 쪽을 학습하는 방식을 번갈아 수행하는 AlternatingLeastSquares 방식이 효과적인 것으로 알려져 있습니다."
   ]
  },
  {
   "cell_type": "code",
   "execution_count": 25,
   "metadata": {
    "executionInfo": {
     "elapsed": 19,
     "status": "ok",
     "timestamp": 1667543432090,
     "user": {
      "displayName": "Seojoon Kang",
      "userId": "03671467470939808326"
     },
     "user_tz": -540
    },
    "id": "V7fN9hp4G4tX"
   },
   "outputs": [],
   "source": [
    "from implicit.als import AlternatingLeastSquares\n",
    "\n",
    "# implicit 라이브러리에서 권장하고 있는 부분입니다. 학습 내용과는 무관합니다.\n",
    "os.environ['OPENBLAS_NUM_THREADS']='1'\n",
    "os.environ['KMP_DUPLICATE_LIB_OK']='True'\n",
    "os.environ['MKL_NUM_THREADS']='1'"
   ]
  },
  {
   "cell_type": "markdown",
   "metadata": {},
   "source": [
    "AlternatingLeastSquares 클래스의 __init__ 파라미터를 살펴보겠습니다.\n",
    "\n",
    "1. factors : 유저와 아이템의 벡터를 몇 차원으로 할 것인지\n",
    "2. regularization : 과적합을 방지하기 위해 정규화 값을 얼마나 사용할 것인지\n",
    "3. use_gpu : GPU를 사용할 것인지\n",
    "4. iterations : epochs와 같은 의미입니다. 데이터를 몇 번 반복해서 학습할 것인지\n",
    "\n",
    "1과 4를 늘릴수록 학습 데이터를 잘 학습하게 되지만 과적합의 우려가 있으니 좋은 값을 찾아야 합니다."
   ]
  },
  {
   "cell_type": "code",
   "execution_count": 26,
   "metadata": {
    "executionInfo": {
     "elapsed": 24,
     "status": "ok",
     "timestamp": 1667543432095,
     "user": {
      "displayName": "Seojoon Kang",
      "userId": "03671467470939808326"
     },
     "user_tz": -540
    },
    "id": "9UEBZiCpG9Bn"
   },
   "outputs": [],
   "source": [
    "# Implicit AlternatingLeastSquares 모델의 선언\n",
    "als_model = AlternatingLeastSquares(factors=100, regularization=0.01, use_gpu=False, iterations=15, dtype=np.float32)"
   ]
  },
  {
   "cell_type": "code",
   "execution_count": 27,
   "metadata": {
    "colab": {
     "base_uri": "https://localhost:8080/"
    },
    "executionInfo": {
     "elapsed": 24,
     "status": "ok",
     "timestamp": 1667543432096,
     "user": {
      "displayName": "Seojoon Kang",
      "userId": "03671467470939808326"
     },
     "user_tz": -540
    },
    "id": "49cycgIeHF1T",
    "outputId": "c5f9d255-62c9-42fc-f1f2-29b3c7c49184"
   },
   "outputs": [
    {
     "data": {
      "text/plain": [
       "<3628x6040 sparse matrix of type '<class 'numpy.int64'>'\n",
       "\twith 836483 stored elements in Compressed Sparse Column format>"
      ]
     },
     "execution_count": 27,
     "metadata": {},
     "output_type": "execute_result"
    }
   ],
   "source": [
    "# als 모델은 input으로 (item X user 꼴의 matrix를 받기 때문에 Transpose해줍니다.)\n",
    "csr_data_transpose = csr_data.T\n",
    "csr_data_transpose"
   ]
  },
  {
   "cell_type": "code",
   "execution_count": 28,
   "metadata": {
    "colab": {
     "base_uri": "https://localhost:8080/",
     "height": 106,
     "referenced_widgets": [
      "f4956badd347485291035748ff1b6727",
      "984172dc3b444ef1b75ad324f5f8fe45",
      "230bbef52b7f4b2882eaa4e3994bd18c",
      "69e3bbba48d24999b46a37db2ce467ed",
      "182ce2ba1a974c648fcbbf5ea94d7cb0",
      "fc45a4944e294cbba4dd367c1103168d",
      "016658ecccd847e28ac213538e6af5fa",
      "bd7f95735cde42408429f26b2295f8c1",
      "d5837ad533af4005890082452ffe0c67",
      "97abae58d7264bd48e5ce93e403298d4",
      "505111afe78a4ccd908e361c3389f5c6"
     ]
    },
    "executionInfo": {
     "elapsed": 34801,
     "status": "ok",
     "timestamp": 1667543466878,
     "user": {
      "displayName": "Seojoon Kang",
      "userId": "03671467470939808326"
     },
     "user_tz": -540
    },
    "id": "p_ZN-nToHIkC",
    "outputId": "52376cf5-9438-4dd4-ca38-4a96ed189812"
   },
   "outputs": [
    {
     "data": {
      "application/vnd.jupyter.widget-view+json": {
       "model_id": "fd3d73710c074096a222056f97c4b77f",
       "version_major": 2,
       "version_minor": 0
      },
      "text/plain": [
       "  0%|          | 0/15 [00:00<?, ?it/s]"
      ]
     },
     "metadata": {},
     "output_type": "display_data"
    }
   ],
   "source": [
    "# 모델 훈련\n",
    "als_model.fit(csr_data_transpose)"
   ]
  },
  {
   "cell_type": "markdown",
   "metadata": {
    "id": "0IMGsZadqmZ2"
   },
   "source": [
    "---\n",
    "## Step 6. 훈련된 모델이 예측한 나의 선호도"
   ]
  },
  {
   "cell_type": "code",
   "execution_count": 29,
   "metadata": {
    "colab": {
     "base_uri": "https://localhost:8080/"
    },
    "executionInfo": {
     "elapsed": 55,
     "status": "ok",
     "timestamp": 1667543466882,
     "user": {
      "displayName": "Seojoon Kang",
      "userId": "03671467470939808326"
     },
     "user_tz": -540
    },
    "id": "4UfqfVmdHS6j",
    "outputId": "2574e468-a3a3-4385-f10a-1ee81047b210"
   },
   "outputs": [
    {
     "name": "stdout",
     "output_type": "stream",
     "text": [
      "5170\n"
     ]
    }
   ],
   "source": [
    "# unknown idx값 찾기\n",
    "unknown_idx_num = user_to_idx['unknown']\n",
    "print(unknown_idx_num)"
   ]
  },
  {
   "cell_type": "code",
   "execution_count": 30,
   "metadata": {
    "colab": {
     "base_uri": "https://localhost:8080/",
     "height": 248
    },
    "executionInfo": {
     "elapsed": 64,
     "status": "error",
     "timestamp": 1667543466899,
     "user": {
      "displayName": "Seojoon Kang",
      "userId": "03671467470939808326"
     },
     "user_tz": -540
    },
    "id": "sAWsZykXLbS6",
    "outputId": "969a3beb-36bc-47e3-eebb-b00aba53b12a"
   },
   "outputs": [
    {
     "name": "stdout",
     "output_type": "stream",
     "text": [
      "unknown의 인덱스:5170  , new_movie_idx 인덱스:124\n"
     ]
    }
   ],
   "source": [
    "unknown_idx = user_to_idx['unknown']\n",
    "new_movie_idx = movie_to_idx[dir_favorite['Matrix, The (1999)']]\n",
    "unknown_vector = als_model.user_factors[unknown_idx],\n",
    "new_movie_vector = als_model.item_factors[new_movie_idx]\n",
    "\n",
    "print('unknown의 인덱스:{}  , new_movie_idx 인덱스:{}'.format(unknown_idx, new_movie_idx) )"
   ]
  },
  {
   "cell_type": "code",
   "execution_count": 31,
   "metadata": {
    "scrolled": true
   },
   "outputs": [
    {
     "data": {
      "text/plain": [
       "array([ 0.02171895,  0.01928538, -0.03434064, -0.0044032 ,  0.0082101 ,\n",
       "       -0.00496944,  0.03230873,  0.01171996,  0.01229796, -0.00085315,\n",
       "        0.00795657, -0.01267156,  0.00366233,  0.02508464,  0.0037411 ,\n",
       "        0.00489033, -0.00148289,  0.0135823 , -0.00827256,  0.00229129,\n",
       "        0.03019948,  0.02204383, -0.01144196,  0.01365748,  0.0103219 ,\n",
       "        0.00587176, -0.00116651,  0.01179854,  0.02438791,  0.00417802,\n",
       "        0.01143715, -0.00164611,  0.02124644,  0.05703427, -0.00235641,\n",
       "        0.03286057,  0.01560492,  0.00844278,  0.01160872, -0.01404122,\n",
       "       -0.02258033, -0.01687871,  0.02233244, -0.00913006,  0.00292217,\n",
       "        0.00364084, -0.01491996,  0.00140935,  0.00502986,  0.03408102,\n",
       "        0.00941291,  0.02565929,  0.01612861, -0.00761853, -0.00114099,\n",
       "        0.01719323,  0.0053717 ,  0.0190453 , -0.00263229,  0.01399783,\n",
       "       -0.01599085,  0.04031647,  0.03138619,  0.01785379,  0.01020897,\n",
       "        0.00285895, -0.0205858 , -0.02988921,  0.00076859,  0.01237083,\n",
       "        0.00735755, -0.00785169,  0.00114957, -0.01863437, -0.02894197,\n",
       "       -0.02865067,  0.01757804, -0.00822343, -0.0119213 ,  0.01675641,\n",
       "        0.01150701,  0.00073569, -0.00673053, -0.00746296,  0.01078124,\n",
       "       -0.01323371, -0.01683146,  0.0006049 ,  0.03361017,  0.01376042,\n",
       "        0.01332205, -0.00848665, -0.00765198,  0.03286086,  0.01434674,\n",
       "       -0.01084354,  0.02143485,  0.01186571,  0.02074195, -0.004612  ],\n",
       "      dtype=float32)"
      ]
     },
     "execution_count": 31,
     "metadata": {},
     "output_type": "execute_result"
    }
   ],
   "source": [
    "new_movie_vector"
   ]
  },
  {
   "cell_type": "code",
   "execution_count": 32,
   "metadata": {},
   "outputs": [
    {
     "data": {
      "text/plain": [
       "array([0.64657986], dtype=float32)"
      ]
     },
     "execution_count": 32,
     "metadata": {},
     "output_type": "execute_result"
    }
   ],
   "source": [
    "np.dot(unknown_vector, new_movie_vector) # vector를 내적했을 때의 값 확인"
   ]
  },
  {
   "cell_type": "markdown",
   "metadata": {},
   "source": [
    "엄밀히 말하면 1이 나와야 하지만 0.68이 나왔다. factors를 늘리거나 iterations를 늘리면 해결에 가까워 질 수 있다고 한다.  \n",
    "하지만 추천시스템에서 값으로써 정확도를 판단하기는 어렵다. 객관성이나 경험등의 다양한 요소를 통해 결정되기 때문이다.  \n",
    "사람의 마음을 정확히 안다는 것 자체가 불가능한 일이기 때문에, 객관적인 지표를 정하기 어려운 것이다."
   ]
  },
  {
   "cell_type": "markdown",
   "metadata": {
    "id": "xrcr4pieqxdn"
   },
   "source": [
    "---\n",
    "## Step 7. 좋아하는 영화와 비슷한 영화 추천\n",
    "AlternatingLeastSquares 클래스에 구현되어 있는 similar_items 메서드를 통하여 비슷한 영화를 찾습니다."
   ]
  },
  {
   "cell_type": "code",
   "execution_count": 33,
   "metadata": {},
   "outputs": [
    {
     "name": "stdout",
     "output_type": "stream",
     "text": [
      "Back to the Future (1985)\n"
     ]
    }
   ],
   "source": [
    "#AlternatingLeastSquares 클래스 \n",
    "#similar_items 메서드를 통하여 비슷한 영화를 찾습니다\n",
    "print(my_favorite[1])"
   ]
  },
  {
   "cell_type": "code",
   "execution_count": 34,
   "metadata": {},
   "outputs": [
    {
     "data": {
      "text/plain": [
       "[(22, 0.9999999),\n",
       " (13, 0.61460274),\n",
       " (488, 0.546514),\n",
       " (243, 0.5426641),\n",
       " (674, 0.5160723),\n",
       " (19, 0.5068385),\n",
       " (26, 0.49938917),\n",
       " (615, 0.45283636),\n",
       " (1144, 0.4307139),\n",
       " (169, 0.4285124)]"
      ]
     },
     "execution_count": 34,
     "metadata": {},
     "output_type": "execute_result"
    }
   ],
   "source": [
    "favorite_movie = 'Back to the Future (1985)'\n",
    "movie_id = movie_to_idx[title_in_id_out(favorite_movie)]\n",
    "similar_movie = als_model.similar_items(movie_id, N=10)\n",
    "similar_movie\n",
    "#(영화의 idx, 유사도) Tuple 로 반환"
   ]
  },
  {
   "cell_type": "markdown",
   "metadata": {},
   "source": [
    "Back to the Future (1985)가 기준점이라서 유사도가 1임을 확인 할 수 있다."
   ]
  },
  {
   "cell_type": "markdown",
   "metadata": {},
   "source": [
    "(영화의 idx, 유사도) 형태의 Tuple 로 반환하고 있습니다.  \n",
    "idx를 다시 영화 제목으로 매핑 시켜 주겠습니다."
   ]
  },
  {
   "cell_type": "code",
   "execution_count": 35,
   "metadata": {},
   "outputs": [
    {
     "name": "stdout",
     "output_type": "stream",
     "text": [
      "idx:22,   moive_id:1270 \n",
      "Back to the Future (1985) \n",
      "\n",
      "idx:13,   moive_id:2918 \n",
      "Ferris Bueller's Day Off (1986) \n",
      "\n",
      "idx:488,   moive_id:1307 \n",
      "When Harry Met Sally... (1989) \n",
      "\n",
      "idx:243,   moive_id:2716 \n",
      "Ghostbusters (1984) \n",
      "\n",
      "idx:674,   moive_id:2011 \n",
      "Back to the Future Part II (1989) \n",
      "\n",
      "idx:19,   moive_id:2797 \n",
      "Big (1988) \n",
      "\n",
      "idx:26,   moive_id:1097 \n",
      "E.T. the Extra-Terrestrial (1982) \n",
      "\n",
      "idx:615,   moive_id:2407 \n",
      "Cocoon (1985) \n",
      "\n",
      "idx:1144,   moive_id:3361 \n",
      "Bull Durham (1988) \n",
      "\n",
      "idx:169,   moive_id:1079 \n",
      "Fish Called Wanda, A (1988) \n",
      "\n"
     ]
    }
   ],
   "source": [
    "#movie_to_idx 를 뒤집어, index로부터 movie_id를  얻는 dict를 생성합니다. \n",
    "idx_to_movie = {v:k for k,v in movie_to_idx.items()}\n",
    "\n",
    "for i in similar_movie:\n",
    "    idx = i[0]\n",
    "    moive_id = idx_to_movie[idx]\n",
    "    print('idx:{},   moive_id:{} '.format(idx,moive_id))\n",
    "    print(id_in_title_out(moive_id),'\\n')"
   ]
  },
  {
   "cell_type": "markdown",
   "metadata": {},
   "source": [
    "전부 오래된 영화라서 잘은 모르지만\n",
    "\n",
    "- Ferris Bueller's Day Off (1986) : 코미디\n",
    "- Ghostbusters (1984) : SF/호러/코미디/액션\n",
    "- Back to the Future Part II (1989) : 모험/코미디/SF\n",
    "- When Harry Met Sally... (1989) : 코미디/드라마/로맨스\n",
    "- Fish Called Wanda, A (1988) : 코미디/범죄\n",
    "- Cocoon (1985) : SF\n",
    "- Big (1988) : 드라마/판타지\n",
    "- Bull Durham (1988) : 드라마/코미디\n",
    "- Star Wars: Episode IV - A New Hope (1977) : 액션/모험/판타지\n",
    "\n",
    "얼추 비슷하게 추천된 것 같다!"
   ]
  },
  {
   "cell_type": "markdown",
   "metadata": {
    "id": "rOMe7PeLq4q0"
   },
   "source": [
    "---\n",
    "## Step 8. 가장 좋아할 만한 영화들을 추천"
   ]
  },
  {
   "cell_type": "code",
   "execution_count": 36,
   "metadata": {},
   "outputs": [
    {
     "data": {
      "text/plain": [
       "[(92, 0.73857534),\n",
       " (62, 0.50585246),\n",
       " (44, 0.37248826),\n",
       " (117, 0.34570283),\n",
       " (87, 0.31999424),\n",
       " (375, 0.31415522),\n",
       " (317, 0.30862394),\n",
       " (141, 0.29845098),\n",
       " (64, 0.29456872),\n",
       " (145, 0.29315814)]"
      ]
     },
     "execution_count": 36,
     "metadata": {},
     "output_type": "execute_result"
    }
   ],
   "source": [
    "user = user_to_idx['unknown']\n",
    "# recommend에서는 user*item CSR Matrix를 받습니다.\n",
    "movie_recommended = als_model.recommend(user, csr_data, N=10, filter_already_liked_items=True)\n",
    "movie_recommended"
   ]
  },
  {
   "cell_type": "code",
   "execution_count": 37,
   "metadata": {},
   "outputs": [
    {
     "name": "stdout",
     "output_type": "stream",
     "text": [
      "idx:92,   moive_id:589 \n",
      "Terminator 2: Judgment Day (1991) \n",
      "\n",
      "idx:62,   moive_id:2916 \n",
      "Total Recall (1990) \n",
      "\n",
      "idx:44,   moive_id:260 \n",
      "Star Wars: Episode IV - A New Hope (1977) \n",
      "\n",
      "idx:117,   moive_id:1196 \n",
      "Star Wars: Episode V - The Empire Strikes Back (1980) \n",
      "\n",
      "idx:87,   moive_id:110 \n",
      "Braveheart (1995) \n",
      "\n",
      "idx:375,   moive_id:1573 \n",
      "Face/Off (1997) \n",
      "\n",
      "idx:317,   moive_id:32 \n",
      "Twelve Monkeys (1995) \n",
      "\n",
      "idx:141,   moive_id:457 \n",
      "Fugitive, The (1993) \n",
      "\n",
      "idx:64,   moive_id:1210 \n",
      "Star Wars: Episode VI - Return of the Jedi (1983) \n",
      "\n",
      "idx:145,   moive_id:1527 \n",
      "Fifth Element, The (1997) \n",
      "\n"
     ]
    }
   ],
   "source": [
    "idx_to_movie = {v:k for k,v in movie_to_idx.items()}\n",
    "\n",
    "for i in movie_recommended:\n",
    "    idx = i[0]\n",
    "    moive_id = idx_to_movie[idx]\n",
    "    print('idx:{},   moive_id:{} '.format(idx,moive_id))\n",
    "    print(id_in_title_out(moive_id),'\\n')"
   ]
  },
  {
   "cell_type": "markdown",
   "metadata": {},
   "source": [
    "마찬가지로 수치상으로는 분포가 다소 상이하지만, 어쨋거나 SF/판타지/호러인 영화들이 추천된 것을 확인 할 수 있다."
   ]
  },
  {
   "cell_type": "markdown",
   "metadata": {
    "id": "6Ztemwhwq9zn"
   },
   "source": [
    "---\n",
    "## Discussion"
   ]
  },
  {
   "cell_type": "markdown",
   "metadata": {},
   "source": [
    "- Google colab에서 에러가 발생해서 한참 고생하다 해결 못 했는데, LMS에서 에러없이 수행되었다. python 버전 문제인가?\n",
    "- 이전 프로젝트부터 보이는 양상이지만, AI만으로 완벽하게 해결 할 수 없는 문제(주관성과 같은 것)들을 접하고 있어서 신선했다.\n",
    "- 외부 모델을 사용했기에 모델에 대한 자세한 이해가 따라오지는 않았지만, 추천시스템에 대한 전반적인 이해도를 키울 수 있는 노드였다.\n",
    "- AlternatingLeastSquares 클래스의 __init__ 파라미터 외에는 특별한 파라미터가 없어서 어려운 점은 없었다."
   ]
  },
  {
   "cell_type": "markdown",
   "metadata": {
    "id": "sQs1sBaLrA5i"
   },
   "source": [
    "fin."
   ]
  }
 ],
 "metadata": {
  "colab": {
   "authorship_tag": "ABX9TyP8FbNwoOfoJ1KMTRHOQjYx",
   "collapsed_sections": [],
   "provenance": []
  },
  "kernelspec": {
   "display_name": "Python 3 (ipykernel)",
   "language": "python",
   "name": "python3"
  },
  "language_info": {
   "codemirror_mode": {
    "name": "ipython",
    "version": 3
   },
   "file_extension": ".py",
   "mimetype": "text/x-python",
   "name": "python",
   "nbconvert_exporter": "python",
   "pygments_lexer": "ipython3",
   "version": "3.9.7"
  },
  "widgets": {
   "application/vnd.jupyter.widget-state+json": {
    "016658ecccd847e28ac213538e6af5fa": {
     "model_module": "@jupyter-widgets/controls",
     "model_module_version": "1.5.0",
     "model_name": "DescriptionStyleModel",
     "state": {
      "_model_module": "@jupyter-widgets/controls",
      "_model_module_version": "1.5.0",
      "_model_name": "DescriptionStyleModel",
      "_view_count": null,
      "_view_module": "@jupyter-widgets/base",
      "_view_module_version": "1.2.0",
      "_view_name": "StyleView",
      "description_width": ""
     }
    },
    "182ce2ba1a974c648fcbbf5ea94d7cb0": {
     "model_module": "@jupyter-widgets/base",
     "model_module_version": "1.2.0",
     "model_name": "LayoutModel",
     "state": {
      "_model_module": "@jupyter-widgets/base",
      "_model_module_version": "1.2.0",
      "_model_name": "LayoutModel",
      "_view_count": null,
      "_view_module": "@jupyter-widgets/base",
      "_view_module_version": "1.2.0",
      "_view_name": "LayoutView",
      "align_content": null,
      "align_items": null,
      "align_self": null,
      "border": null,
      "bottom": null,
      "display": null,
      "flex": null,
      "flex_flow": null,
      "grid_area": null,
      "grid_auto_columns": null,
      "grid_auto_flow": null,
      "grid_auto_rows": null,
      "grid_column": null,
      "grid_gap": null,
      "grid_row": null,
      "grid_template_areas": null,
      "grid_template_columns": null,
      "grid_template_rows": null,
      "height": null,
      "justify_content": null,
      "justify_items": null,
      "left": null,
      "margin": null,
      "max_height": null,
      "max_width": null,
      "min_height": null,
      "min_width": null,
      "object_fit": null,
      "object_position": null,
      "order": null,
      "overflow": null,
      "overflow_x": null,
      "overflow_y": null,
      "padding": null,
      "right": null,
      "top": null,
      "visibility": null,
      "width": null
     }
    },
    "230bbef52b7f4b2882eaa4e3994bd18c": {
     "model_module": "@jupyter-widgets/controls",
     "model_module_version": "1.5.0",
     "model_name": "FloatProgressModel",
     "state": {
      "_dom_classes": [],
      "_model_module": "@jupyter-widgets/controls",
      "_model_module_version": "1.5.0",
      "_model_name": "FloatProgressModel",
      "_view_count": null,
      "_view_module": "@jupyter-widgets/controls",
      "_view_module_version": "1.5.0",
      "_view_name": "ProgressView",
      "bar_style": "success",
      "description": "",
      "description_tooltip": null,
      "layout": "IPY_MODEL_bd7f95735cde42408429f26b2295f8c1",
      "max": 15,
      "min": 0,
      "orientation": "horizontal",
      "style": "IPY_MODEL_d5837ad533af4005890082452ffe0c67",
      "value": 15
     }
    },
    "505111afe78a4ccd908e361c3389f5c6": {
     "model_module": "@jupyter-widgets/controls",
     "model_module_version": "1.5.0",
     "model_name": "DescriptionStyleModel",
     "state": {
      "_model_module": "@jupyter-widgets/controls",
      "_model_module_version": "1.5.0",
      "_model_name": "DescriptionStyleModel",
      "_view_count": null,
      "_view_module": "@jupyter-widgets/base",
      "_view_module_version": "1.2.0",
      "_view_name": "StyleView",
      "description_width": ""
     }
    },
    "69e3bbba48d24999b46a37db2ce467ed": {
     "model_module": "@jupyter-widgets/controls",
     "model_module_version": "1.5.0",
     "model_name": "HTMLModel",
     "state": {
      "_dom_classes": [],
      "_model_module": "@jupyter-widgets/controls",
      "_model_module_version": "1.5.0",
      "_model_name": "HTMLModel",
      "_view_count": null,
      "_view_module": "@jupyter-widgets/controls",
      "_view_module_version": "1.5.0",
      "_view_name": "HTMLView",
      "description": "",
      "description_tooltip": null,
      "layout": "IPY_MODEL_97abae58d7264bd48e5ce93e403298d4",
      "placeholder": "​",
      "style": "IPY_MODEL_505111afe78a4ccd908e361c3389f5c6",
      "value": " 15/15 [00:34&lt;00:00,  2.15s/it]"
     }
    },
    "97abae58d7264bd48e5ce93e403298d4": {
     "model_module": "@jupyter-widgets/base",
     "model_module_version": "1.2.0",
     "model_name": "LayoutModel",
     "state": {
      "_model_module": "@jupyter-widgets/base",
      "_model_module_version": "1.2.0",
      "_model_name": "LayoutModel",
      "_view_count": null,
      "_view_module": "@jupyter-widgets/base",
      "_view_module_version": "1.2.0",
      "_view_name": "LayoutView",
      "align_content": null,
      "align_items": null,
      "align_self": null,
      "border": null,
      "bottom": null,
      "display": null,
      "flex": null,
      "flex_flow": null,
      "grid_area": null,
      "grid_auto_columns": null,
      "grid_auto_flow": null,
      "grid_auto_rows": null,
      "grid_column": null,
      "grid_gap": null,
      "grid_row": null,
      "grid_template_areas": null,
      "grid_template_columns": null,
      "grid_template_rows": null,
      "height": null,
      "justify_content": null,
      "justify_items": null,
      "left": null,
      "margin": null,
      "max_height": null,
      "max_width": null,
      "min_height": null,
      "min_width": null,
      "object_fit": null,
      "object_position": null,
      "order": null,
      "overflow": null,
      "overflow_x": null,
      "overflow_y": null,
      "padding": null,
      "right": null,
      "top": null,
      "visibility": null,
      "width": null
     }
    },
    "984172dc3b444ef1b75ad324f5f8fe45": {
     "model_module": "@jupyter-widgets/controls",
     "model_module_version": "1.5.0",
     "model_name": "HTMLModel",
     "state": {
      "_dom_classes": [],
      "_model_module": "@jupyter-widgets/controls",
      "_model_module_version": "1.5.0",
      "_model_name": "HTMLModel",
      "_view_count": null,
      "_view_module": "@jupyter-widgets/controls",
      "_view_module_version": "1.5.0",
      "_view_name": "HTMLView",
      "description": "",
      "description_tooltip": null,
      "layout": "IPY_MODEL_fc45a4944e294cbba4dd367c1103168d",
      "placeholder": "​",
      "style": "IPY_MODEL_016658ecccd847e28ac213538e6af5fa",
      "value": "100%"
     }
    },
    "bd7f95735cde42408429f26b2295f8c1": {
     "model_module": "@jupyter-widgets/base",
     "model_module_version": "1.2.0",
     "model_name": "LayoutModel",
     "state": {
      "_model_module": "@jupyter-widgets/base",
      "_model_module_version": "1.2.0",
      "_model_name": "LayoutModel",
      "_view_count": null,
      "_view_module": "@jupyter-widgets/base",
      "_view_module_version": "1.2.0",
      "_view_name": "LayoutView",
      "align_content": null,
      "align_items": null,
      "align_self": null,
      "border": null,
      "bottom": null,
      "display": null,
      "flex": null,
      "flex_flow": null,
      "grid_area": null,
      "grid_auto_columns": null,
      "grid_auto_flow": null,
      "grid_auto_rows": null,
      "grid_column": null,
      "grid_gap": null,
      "grid_row": null,
      "grid_template_areas": null,
      "grid_template_columns": null,
      "grid_template_rows": null,
      "height": null,
      "justify_content": null,
      "justify_items": null,
      "left": null,
      "margin": null,
      "max_height": null,
      "max_width": null,
      "min_height": null,
      "min_width": null,
      "object_fit": null,
      "object_position": null,
      "order": null,
      "overflow": null,
      "overflow_x": null,
      "overflow_y": null,
      "padding": null,
      "right": null,
      "top": null,
      "visibility": null,
      "width": null
     }
    },
    "d5837ad533af4005890082452ffe0c67": {
     "model_module": "@jupyter-widgets/controls",
     "model_module_version": "1.5.0",
     "model_name": "ProgressStyleModel",
     "state": {
      "_model_module": "@jupyter-widgets/controls",
      "_model_module_version": "1.5.0",
      "_model_name": "ProgressStyleModel",
      "_view_count": null,
      "_view_module": "@jupyter-widgets/base",
      "_view_module_version": "1.2.0",
      "_view_name": "StyleView",
      "bar_color": null,
      "description_width": ""
     }
    },
    "f4956badd347485291035748ff1b6727": {
     "model_module": "@jupyter-widgets/controls",
     "model_module_version": "1.5.0",
     "model_name": "HBoxModel",
     "state": {
      "_dom_classes": [],
      "_model_module": "@jupyter-widgets/controls",
      "_model_module_version": "1.5.0",
      "_model_name": "HBoxModel",
      "_view_count": null,
      "_view_module": "@jupyter-widgets/controls",
      "_view_module_version": "1.5.0",
      "_view_name": "HBoxView",
      "box_style": "",
      "children": [
       "IPY_MODEL_984172dc3b444ef1b75ad324f5f8fe45",
       "IPY_MODEL_230bbef52b7f4b2882eaa4e3994bd18c",
       "IPY_MODEL_69e3bbba48d24999b46a37db2ce467ed"
      ],
      "layout": "IPY_MODEL_182ce2ba1a974c648fcbbf5ea94d7cb0"
     }
    },
    "fc45a4944e294cbba4dd367c1103168d": {
     "model_module": "@jupyter-widgets/base",
     "model_module_version": "1.2.0",
     "model_name": "LayoutModel",
     "state": {
      "_model_module": "@jupyter-widgets/base",
      "_model_module_version": "1.2.0",
      "_model_name": "LayoutModel",
      "_view_count": null,
      "_view_module": "@jupyter-widgets/base",
      "_view_module_version": "1.2.0",
      "_view_name": "LayoutView",
      "align_content": null,
      "align_items": null,
      "align_self": null,
      "border": null,
      "bottom": null,
      "display": null,
      "flex": null,
      "flex_flow": null,
      "grid_area": null,
      "grid_auto_columns": null,
      "grid_auto_flow": null,
      "grid_auto_rows": null,
      "grid_column": null,
      "grid_gap": null,
      "grid_row": null,
      "grid_template_areas": null,
      "grid_template_columns": null,
      "grid_template_rows": null,
      "height": null,
      "justify_content": null,
      "justify_items": null,
      "left": null,
      "margin": null,
      "max_height": null,
      "max_width": null,
      "min_height": null,
      "min_width": null,
      "object_fit": null,
      "object_position": null,
      "order": null,
      "overflow": null,
      "overflow_x": null,
      "overflow_y": null,
      "padding": null,
      "right": null,
      "top": null,
      "visibility": null,
      "width": null
     }
    }
   }
  }
 },
 "nbformat": 4,
 "nbformat_minor": 1
}
