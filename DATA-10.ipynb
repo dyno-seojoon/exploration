{
 "cells": [
  {
   "cell_type": "code",
   "execution_count": 25,
   "id": "4096546b",
   "metadata": {},
   "outputs": [],
   "source": [
    "# 필요 라이브러리 호출하기\n",
    "import pandas as pd\n",
    "import numpy as np\n",
    "import matplotlib.pyplot as plt\n",
    "plt.style.use('default')\n",
    "plt.rc('font', family='Malgun Gothic')\n",
    "\n",
    "import seaborn as sns\n",
    "\n",
    "import os\n",
    "from os.path import join"
   ]
  },
  {
   "cell_type": "code",
   "execution_count": 2,
   "id": "c82e53fe",
   "metadata": {},
   "outputs": [],
   "source": [
    "# 데이터 호출하기\n",
    "\n",
    "data_dir = os.getenv('USERPROFILE')+'/aiffel/data'\n",
    "\n",
    "\n",
    "entry_data_path = join(data_dir, 'entry_data.csv')\n",
    "sales_data_path = join(data_dir, 'sales_data.csv')\n",
    "item_data_path = join(data_dir, 'item_data.csv')\n",
    "item_entry_data_path = join(data_dir, 'item_entry_data.csv')\n",
    "\n",
    "entry_data = pd.read_csv(entry_data_path)\n",
    "sales_data = pd.read_csv(sales_data_path)\n",
    "item_data = pd.read_csv(item_data_path)\n",
    "item_entry_data = pd.read_csv(item_entry_data_path)"
   ]
  },
  {
   "cell_type": "code",
   "execution_count": 3,
   "id": "1f77190e",
   "metadata": {},
   "outputs": [
    {
     "data": {
      "text/html": [
       "<div>\n",
       "<style scoped>\n",
       "    .dataframe tbody tr th:only-of-type {\n",
       "        vertical-align: middle;\n",
       "    }\n",
       "\n",
       "    .dataframe tbody tr th {\n",
       "        vertical-align: top;\n",
       "    }\n",
       "\n",
       "    .dataframe thead th {\n",
       "        text-align: right;\n",
       "    }\n",
       "</style>\n",
       "<table border=\"1\" class=\"dataframe\">\n",
       "  <thead>\n",
       "    <tr style=\"text-align: right;\">\n",
       "      <th></th>\n",
       "      <th>요금제명</th>\n",
       "      <th>입실</th>\n",
       "      <th>퇴실</th>\n",
       "      <th>이용</th>\n",
       "      <th>위치</th>\n",
       "      <th>금액</th>\n",
       "      <th>구분</th>\n",
       "      <th>고객</th>\n",
       "    </tr>\n",
       "  </thead>\n",
       "  <tbody>\n",
       "    <tr>\n",
       "      <th>0</th>\n",
       "      <td>시간요금제(1시간)</td>\n",
       "      <td>2022-04-01 23:39</td>\n",
       "      <td>2022-04-02 0:39</td>\n",
       "      <td>오전 1:00:00</td>\n",
       "      <td>선불기2</td>\n",
       "      <td>3000</td>\n",
       "      <td>퇴실</td>\n",
       "      <td>customer263717</td>\n",
       "    </tr>\n",
       "    <tr>\n",
       "      <th>1</th>\n",
       "      <td>시간요금제(1시간)</td>\n",
       "      <td>2022-04-01 23:39</td>\n",
       "      <td>2022-04-02 0:39</td>\n",
       "      <td>오전 1:00:00</td>\n",
       "      <td>선불기2</td>\n",
       "      <td>3000</td>\n",
       "      <td>퇴실</td>\n",
       "      <td>customer263717</td>\n",
       "    </tr>\n",
       "    <tr>\n",
       "      <th>2</th>\n",
       "      <td>무제한 입장권</td>\n",
       "      <td>2022-04-01 20:55</td>\n",
       "      <td>2022-04-01 21:41</td>\n",
       "      <td>오전 12:46:00</td>\n",
       "      <td>선불기2</td>\n",
       "      <td>7400</td>\n",
       "      <td>퇴실</td>\n",
       "      <td>customer247263</td>\n",
       "    </tr>\n",
       "    <tr>\n",
       "      <th>3</th>\n",
       "      <td>무제한 입장권</td>\n",
       "      <td>2022-04-01 20:55</td>\n",
       "      <td>2022-04-01 21:41</td>\n",
       "      <td>오전 12:46:00</td>\n",
       "      <td>선불기2</td>\n",
       "      <td>7400</td>\n",
       "      <td>퇴실</td>\n",
       "      <td>customer247263</td>\n",
       "    </tr>\n",
       "    <tr>\n",
       "      <th>4</th>\n",
       "      <td>한국대생 무제한 입장권</td>\n",
       "      <td>2022-04-01 19:54</td>\n",
       "      <td>2022-04-01 22:28</td>\n",
       "      <td>오전 2:33:00</td>\n",
       "      <td>선불기2</td>\n",
       "      <td>7400</td>\n",
       "      <td>퇴실</td>\n",
       "      <td>customer388928</td>\n",
       "    </tr>\n",
       "  </tbody>\n",
       "</table>\n",
       "</div>"
      ],
      "text/plain": [
       "           요금제명                입실                퇴실           이용    위치    금액  \\\n",
       "0    시간요금제(1시간)  2022-04-01 23:39   2022-04-02 0:39   오전 1:00:00  선불기2  3000   \n",
       "1    시간요금제(1시간)  2022-04-01 23:39   2022-04-02 0:39   오전 1:00:00  선불기2  3000   \n",
       "2       무제한 입장권  2022-04-01 20:55  2022-04-01 21:41  오전 12:46:00  선불기2  7400   \n",
       "3       무제한 입장권  2022-04-01 20:55  2022-04-01 21:41  오전 12:46:00  선불기2  7400   \n",
       "4  한국대생 무제한 입장권  2022-04-01 19:54  2022-04-01 22:28   오전 2:33:00  선불기2  7400   \n",
       "\n",
       "   구분              고객  \n",
       "0  퇴실  customer263717  \n",
       "1  퇴실  customer263717  \n",
       "2  퇴실  customer247263  \n",
       "3  퇴실  customer247263  \n",
       "4  퇴실  customer388928  "
      ]
     },
     "execution_count": 3,
     "metadata": {},
     "output_type": "execute_result"
    }
   ],
   "source": [
    "# entry_data 데이터 정보 확인하기\n",
    "entry_data.head()"
   ]
  },
  {
   "cell_type": "code",
   "execution_count": 4,
   "id": "d306ab72",
   "metadata": {},
   "outputs": [
    {
     "data": {
      "text/html": [
       "<div>\n",
       "<style scoped>\n",
       "    .dataframe tbody tr th:only-of-type {\n",
       "        vertical-align: middle;\n",
       "    }\n",
       "\n",
       "    .dataframe tbody tr th {\n",
       "        vertical-align: top;\n",
       "    }\n",
       "\n",
       "    .dataframe thead th {\n",
       "        text-align: right;\n",
       "    }\n",
       "</style>\n",
       "<table border=\"1\" class=\"dataframe\">\n",
       "  <thead>\n",
       "    <tr style=\"text-align: right;\">\n",
       "      <th></th>\n",
       "      <th>결제일시</th>\n",
       "      <th>판매위치</th>\n",
       "      <th>상품명</th>\n",
       "      <th>결제방식</th>\n",
       "      <th>비고</th>\n",
       "      <th>판매수량</th>\n",
       "      <th>결제금액</th>\n",
       "      <th>고객</th>\n",
       "    </tr>\n",
       "  </thead>\n",
       "  <tbody>\n",
       "    <tr>\n",
       "      <th>0</th>\n",
       "      <td>2022-04-01 19:41</td>\n",
       "      <td>선불기1</td>\n",
       "      <td>치킨카라아케 6pc</td>\n",
       "      <td>신용카드</td>\n",
       "      <td>결제완료</td>\n",
       "      <td>1</td>\n",
       "      <td>4,500</td>\n",
       "      <td>customer275507</td>\n",
       "    </tr>\n",
       "    <tr>\n",
       "      <th>1</th>\n",
       "      <td>2022-04-01 19:41</td>\n",
       "      <td>선불기1</td>\n",
       "      <td>짜장라면(계란추가)</td>\n",
       "      <td>신용카드</td>\n",
       "      <td>결제완료</td>\n",
       "      <td>1</td>\n",
       "      <td>5,500</td>\n",
       "      <td>customer275507</td>\n",
       "    </tr>\n",
       "    <tr>\n",
       "      <th>2</th>\n",
       "      <td>2022-04-01 19:41</td>\n",
       "      <td>선불기1</td>\n",
       "      <td>라면</td>\n",
       "      <td>신용카드</td>\n",
       "      <td>결제완료</td>\n",
       "      <td>1</td>\n",
       "      <td>4,000</td>\n",
       "      <td>customer275507</td>\n",
       "    </tr>\n",
       "    <tr>\n",
       "      <th>3</th>\n",
       "      <td>2022-04-01 19:41</td>\n",
       "      <td>선불기1</td>\n",
       "      <td>비엔나소세지(토핑)</td>\n",
       "      <td>신용카드</td>\n",
       "      <td>결제완료</td>\n",
       "      <td>1</td>\n",
       "      <td>1,000</td>\n",
       "      <td>customer275507</td>\n",
       "    </tr>\n",
       "    <tr>\n",
       "      <th>4</th>\n",
       "      <td>2022-04-01 19:41</td>\n",
       "      <td>선불기1</td>\n",
       "      <td>라면(계란/치즈추가)</td>\n",
       "      <td>신용카드</td>\n",
       "      <td>결제완료</td>\n",
       "      <td>1</td>\n",
       "      <td>5,000</td>\n",
       "      <td>customer275507</td>\n",
       "    </tr>\n",
       "  </tbody>\n",
       "</table>\n",
       "</div>"
      ],
      "text/plain": [
       "               결제일시  판매위치          상품명  결제방식    비고  판매수량   결제금액  \\\n",
       "0  2022-04-01 19:41  선불기1   치킨카라아케 6pc  신용카드  결제완료     1  4,500   \n",
       "1  2022-04-01 19:41  선불기1   짜장라면(계란추가)  신용카드  결제완료     1  5,500   \n",
       "2  2022-04-01 19:41  선불기1           라면  신용카드  결제완료     1  4,000   \n",
       "3  2022-04-01 19:41  선불기1   비엔나소세지(토핑)  신용카드  결제완료     1  1,000   \n",
       "4  2022-04-01 19:41  선불기1  라면(계란/치즈추가)  신용카드  결제완료     1  5,000   \n",
       "\n",
       "               고객  \n",
       "0  customer275507  \n",
       "1  customer275507  \n",
       "2  customer275507  \n",
       "3  customer275507  \n",
       "4  customer275507  "
      ]
     },
     "execution_count": 4,
     "metadata": {},
     "output_type": "execute_result"
    }
   ],
   "source": [
    "# sales_data 데이터 정보 확인하기\n",
    "sales_data.head()"
   ]
  },
  {
   "cell_type": "code",
   "execution_count": 5,
   "id": "a3f683e9",
   "metadata": {},
   "outputs": [
    {
     "data": {
      "text/html": [
       "<div>\n",
       "<style scoped>\n",
       "    .dataframe tbody tr th:only-of-type {\n",
       "        vertical-align: middle;\n",
       "    }\n",
       "\n",
       "    .dataframe tbody tr th {\n",
       "        vertical-align: top;\n",
       "    }\n",
       "\n",
       "    .dataframe thead th {\n",
       "        text-align: right;\n",
       "    }\n",
       "</style>\n",
       "<table border=\"1\" class=\"dataframe\">\n",
       "  <thead>\n",
       "    <tr style=\"text-align: right;\">\n",
       "      <th></th>\n",
       "      <th>구분</th>\n",
       "      <th>분류</th>\n",
       "      <th>상품명</th>\n",
       "      <th>판매금액</th>\n",
       "    </tr>\n",
       "  </thead>\n",
       "  <tbody>\n",
       "    <tr>\n",
       "      <th>0</th>\n",
       "      <td>1</td>\n",
       "      <td>게임&amp;TV</td>\n",
       "      <td>이어폰(커널형)</td>\n",
       "      <td>3,000원</td>\n",
       "    </tr>\n",
       "    <tr>\n",
       "      <th>1</th>\n",
       "      <td>2</td>\n",
       "      <td>디저트</td>\n",
       "      <td>초코머핀</td>\n",
       "      <td>3,500원</td>\n",
       "    </tr>\n",
       "    <tr>\n",
       "      <th>2</th>\n",
       "      <td>3</td>\n",
       "      <td>디저트</td>\n",
       "      <td>쿠키(초코칩)</td>\n",
       "      <td>1,500원</td>\n",
       "    </tr>\n",
       "    <tr>\n",
       "      <th>3</th>\n",
       "      <td>4</td>\n",
       "      <td>디저트</td>\n",
       "      <td>쿠키(마카다미아)</td>\n",
       "      <td>1,500원</td>\n",
       "    </tr>\n",
       "    <tr>\n",
       "      <th>4</th>\n",
       "      <td>5</td>\n",
       "      <td>디저트</td>\n",
       "      <td>미니마카롱(3개)</td>\n",
       "      <td>2,000원</td>\n",
       "    </tr>\n",
       "  </tbody>\n",
       "</table>\n",
       "</div>"
      ],
      "text/plain": [
       "   구분     분류        상품명    판매금액\n",
       "0   1  게임&TV   이어폰(커널형)  3,000원\n",
       "1   2    디저트       초코머핀  3,500원\n",
       "2   3    디저트    쿠키(초코칩)  1,500원\n",
       "3   4    디저트  쿠키(마카다미아)  1,500원\n",
       "4   5    디저트  미니마카롱(3개)  2,000원"
      ]
     },
     "execution_count": 5,
     "metadata": {},
     "output_type": "execute_result"
    }
   ],
   "source": [
    "# item_data 데이터 정보 확인하기\n",
    "item_data.head()"
   ]
  },
  {
   "cell_type": "code",
   "execution_count": 6,
   "id": "32b7f1f5",
   "metadata": {},
   "outputs": [
    {
     "data": {
      "text/html": [
       "<div>\n",
       "<style scoped>\n",
       "    .dataframe tbody tr th:only-of-type {\n",
       "        vertical-align: middle;\n",
       "    }\n",
       "\n",
       "    .dataframe tbody tr th {\n",
       "        vertical-align: top;\n",
       "    }\n",
       "\n",
       "    .dataframe thead th {\n",
       "        text-align: right;\n",
       "    }\n",
       "</style>\n",
       "<table border=\"1\" class=\"dataframe\">\n",
       "  <thead>\n",
       "    <tr style=\"text-align: right;\">\n",
       "      <th></th>\n",
       "      <th>순위</th>\n",
       "      <th>분류</th>\n",
       "      <th>상품명</th>\n",
       "      <th>판매금액</th>\n",
       "    </tr>\n",
       "  </thead>\n",
       "  <tbody>\n",
       "    <tr>\n",
       "      <th>0</th>\n",
       "      <td>1</td>\n",
       "      <td>한국대생</td>\n",
       "      <td>한국대생 요금제</td>\n",
       "      <td>2,000원</td>\n",
       "    </tr>\n",
       "    <tr>\n",
       "      <th>1</th>\n",
       "      <td>2</td>\n",
       "      <td>심야-조조</td>\n",
       "      <td>심야-조조 요금제</td>\n",
       "      <td>5,000원</td>\n",
       "    </tr>\n",
       "    <tr>\n",
       "      <th>2</th>\n",
       "      <td>3</td>\n",
       "      <td>일반인</td>\n",
       "      <td>일반요금제</td>\n",
       "      <td>2,500원</td>\n",
       "    </tr>\n",
       "    <tr>\n",
       "      <th>3</th>\n",
       "      <td>4</td>\n",
       "      <td>한국대생</td>\n",
       "      <td>한국대생 요금제</td>\n",
       "      <td>2,500원</td>\n",
       "    </tr>\n",
       "    <tr>\n",
       "      <th>4</th>\n",
       "      <td>5</td>\n",
       "      <td>일반인</td>\n",
       "      <td>일반요금제</td>\n",
       "      <td>2,000원</td>\n",
       "    </tr>\n",
       "  </tbody>\n",
       "</table>\n",
       "</div>"
      ],
      "text/plain": [
       "   순위     분류        상품명    판매금액\n",
       "0   1   한국대생   한국대생 요금제  2,000원\n",
       "1   2  심야-조조  심야-조조 요금제  5,000원\n",
       "2   3    일반인      일반요금제  2,500원\n",
       "3   4   한국대생   한국대생 요금제  2,500원\n",
       "4   5    일반인      일반요금제  2,000원"
      ]
     },
     "execution_count": 6,
     "metadata": {},
     "output_type": "execute_result"
    }
   ],
   "source": [
    "# item_entry_data 데이터 정보 확인하기\n",
    "item_entry_data.head()"
   ]
  },
  {
   "cell_type": "markdown",
   "id": "0f879c00",
   "metadata": {},
   "source": [
    "필수 문제1 : 월별 매출액 추세(sales_data를 이용합니다.)"
   ]
  },
  {
   "cell_type": "code",
   "execution_count": 7,
   "id": "1e61317d",
   "metadata": {},
   "outputs": [],
   "source": [
    "# 활용할 데이터(sales_data)를 temp_var로 정의하기\n",
    "temp_var = sales_data"
   ]
  },
  {
   "cell_type": "code",
   "execution_count": 8,
   "id": "bede70ac",
   "metadata": {},
   "outputs": [],
   "source": [
    "# temp_var의 date열을 만들고, sales_date의 결제일시 중 앞에서 7번째 값까지 할당\n",
    "temp_var['date'] = sales_data['결제일시'].str[:7]"
   ]
  },
  {
   "cell_type": "code",
   "execution_count": 9,
   "id": "cb6af8b9",
   "metadata": {},
   "outputs": [],
   "source": [
    "# salse_data의 결제금액에 포함된 쉼표(,) 지우기\n",
    "sales_data['결제금액'] = sales_data['결제금액'].str.replace(',', '')"
   ]
  },
  {
   "cell_type": "code",
   "execution_count": 10,
   "id": "161328c3",
   "metadata": {},
   "outputs": [],
   "source": [
    "# salse_data의 결제금액을 숫자형태로 바꾸기\n",
    "temp_var['payment'] = sales_data['결제금액'].astype(int)"
   ]
  },
  {
   "cell_type": "code",
   "execution_count": 11,
   "id": "2ffd5778",
   "metadata": {},
   "outputs": [
    {
     "data": {
      "text/plain": [
       "date\n",
       "2021-02       7000\n",
       "2021-03    2104500\n",
       "2021-04    3116600\n",
       "2021-05    2537000\n",
       "2021-06    3621500\n",
       "2021-07    1215000\n",
       "2021-08    1229000\n",
       "2021-09    1197500\n",
       "2021-10    2138500\n",
       "2021-11    2748500\n",
       "2021-12    3290000\n",
       "2022-01    1430500\n",
       "2022-02    1181500\n",
       "2022-03    1870900\n",
       "2022-04      49900\n",
       "Name: payment, dtype: int32"
      ]
     },
     "execution_count": 11,
     "metadata": {},
     "output_type": "execute_result"
    }
   ],
   "source": [
    "# temp_var의 payment열을 date 기준으로 집계하기\n",
    "payment_data = temp_var['payment'].groupby(temp_var['date']).sum()\n",
    "payment_data"
   ]
  },
  {
   "cell_type": "code",
   "execution_count": 12,
   "id": "a9f9ce9e",
   "metadata": {},
   "outputs": [
    {
     "data": {
      "image/png": "[encoded data removed]",
      "text/plain": [
       "<Figure size 640x480 with 1 Axes>"
      ]
     },
     "metadata": {},
     "output_type": "display_data"
    }
   ],
   "source": [
    "# 집계 결과를 시각화하기\n",
    "ax = payment_data.plot(kind='bar')\n",
    "\n",
    "plt.title('Sales By Months')\n",
    "plt.xlabel('Month')\n",
    "plt.ylabel('Sales')\n",
    "plt.show()"
   ]
  },
  {
   "cell_type": "markdown",
   "id": "4c0675fb",
   "metadata": {},
   "source": [
    "필수 문제2: 가장 인기 있는 음식/음료(salses_data를 이용합니다.)"
   ]
  },
  {
   "cell_type": "code",
   "execution_count": 13,
   "id": "8da8dbff",
   "metadata": {},
   "outputs": [
    {
     "data": {
      "text/plain": [
       "결제일시              판매위치  상품명         결제방식  비고    판매수량  결제금액  고객              date     payment\n",
       "2021-10-05 13:33  선불기1  치즈추가        현금    결제완료  1     500   customer803089  2021-10  500        4\n",
       "                        라면          현금    결제완료  1     4000  customer803089  2021-10  4000       4\n",
       "2021-10-07 10:05  선불기1  시럽추가        신용카드  결제완료  1     500   customer777135  2021-10  500        4\n",
       "2021-06-19 21:02  선불기1  라면          신용카드  결제완료  1     4000  customer283589  2021-06  4000       4\n",
       "2021-06-14 11:37  선불기1  치즈추가        신용카드  결제완료  1     500   customer950393  2021-06  500        3\n",
       "                                                                                               ..\n",
       "2021-06-13 12:59  선불기1  계란추가        신용카드  결제완료  1     500   customer339447  2021-06  500        1\n",
       "2021-06-13 11:46  선불기1  새우볶음밥       신용카드  결제완료  1     5000  customer950393  2021-06  5000       1\n",
       "2021-06-13 10:33  선불기1  김치볶음밥       신용카드  결제완료  1     5000  customer983308  2021-06  5000       1\n",
       "2021-06-13 10:00  선불기1  김치볶음밥       신용카드  결제완료  1     5000  customer258946  2021-06  5000       1\n",
       "2022-04-01 19:41  선불기1  치킨카라아케 6pc  신용카드  결제완료  1     4500  customer275507  2022-04  4500       1\n",
       "Length: 5988, dtype: int64"
      ]
     },
     "execution_count": 13,
     "metadata": {},
     "output_type": "execute_result"
    }
   ],
   "source": [
    "# temp_var의 상품명을 value_counts를 이용해 집계하기\n",
    "items_count = temp_var[temp_var['판매수량']!=-1].value_counts()\n",
    "items_count"
   ]
  },
  {
   "cell_type": "code",
   "execution_count": 14,
   "id": "ad9bc20d",
   "metadata": {},
   "outputs": [
    {
     "data": {
      "text/html": [
       "<div>\n",
       "<style scoped>\n",
       "    .dataframe tbody tr th:only-of-type {\n",
       "        vertical-align: middle;\n",
       "    }\n",
       "\n",
       "    .dataframe tbody tr th {\n",
       "        vertical-align: top;\n",
       "    }\n",
       "\n",
       "    .dataframe thead th {\n",
       "        text-align: right;\n",
       "    }\n",
       "</style>\n",
       "<table border=\"1\" class=\"dataframe\">\n",
       "  <thead>\n",
       "    <tr style=\"text-align: right;\">\n",
       "      <th></th>\n",
       "      <th></th>\n",
       "      <th></th>\n",
       "      <th></th>\n",
       "      <th></th>\n",
       "      <th></th>\n",
       "      <th></th>\n",
       "      <th></th>\n",
       "      <th></th>\n",
       "      <th></th>\n",
       "      <th>0</th>\n",
       "    </tr>\n",
       "    <tr>\n",
       "      <th>결제일시</th>\n",
       "      <th>판매위치</th>\n",
       "      <th>상품명</th>\n",
       "      <th>결제방식</th>\n",
       "      <th>비고</th>\n",
       "      <th>판매수량</th>\n",
       "      <th>결제금액</th>\n",
       "      <th>고객</th>\n",
       "      <th>date</th>\n",
       "      <th>payment</th>\n",
       "      <th></th>\n",
       "    </tr>\n",
       "  </thead>\n",
       "  <tbody>\n",
       "    <tr>\n",
       "      <th rowspan=\"2\" valign=\"top\">2021-10-05 13:33</th>\n",
       "      <th rowspan=\"2\" valign=\"top\">선불기1</th>\n",
       "      <th>치즈추가</th>\n",
       "      <th>현금</th>\n",
       "      <th>결제완료</th>\n",
       "      <th>1</th>\n",
       "      <th>500</th>\n",
       "      <th>customer803089</th>\n",
       "      <th>2021-10</th>\n",
       "      <th>500</th>\n",
       "      <td>4</td>\n",
       "    </tr>\n",
       "    <tr>\n",
       "      <th>라면</th>\n",
       "      <th>현금</th>\n",
       "      <th>결제완료</th>\n",
       "      <th>1</th>\n",
       "      <th>4000</th>\n",
       "      <th>customer803089</th>\n",
       "      <th>2021-10</th>\n",
       "      <th>4000</th>\n",
       "      <td>4</td>\n",
       "    </tr>\n",
       "    <tr>\n",
       "      <th>2021-10-07 10:05</th>\n",
       "      <th>선불기1</th>\n",
       "      <th>시럽추가</th>\n",
       "      <th>신용카드</th>\n",
       "      <th>결제완료</th>\n",
       "      <th>1</th>\n",
       "      <th>500</th>\n",
       "      <th>customer777135</th>\n",
       "      <th>2021-10</th>\n",
       "      <th>500</th>\n",
       "      <td>4</td>\n",
       "    </tr>\n",
       "    <tr>\n",
       "      <th>2021-06-19 21:02</th>\n",
       "      <th>선불기1</th>\n",
       "      <th>라면</th>\n",
       "      <th>신용카드</th>\n",
       "      <th>결제완료</th>\n",
       "      <th>1</th>\n",
       "      <th>4000</th>\n",
       "      <th>customer283589</th>\n",
       "      <th>2021-06</th>\n",
       "      <th>4000</th>\n",
       "      <td>4</td>\n",
       "    </tr>\n",
       "    <tr>\n",
       "      <th>2021-06-14 11:37</th>\n",
       "      <th>선불기1</th>\n",
       "      <th>치즈추가</th>\n",
       "      <th>신용카드</th>\n",
       "      <th>결제완료</th>\n",
       "      <th>1</th>\n",
       "      <th>500</th>\n",
       "      <th>customer950393</th>\n",
       "      <th>2021-06</th>\n",
       "      <th>500</th>\n",
       "      <td>3</td>\n",
       "    </tr>\n",
       "    <tr>\n",
       "      <th>2021-03-23 13:41</th>\n",
       "      <th>선불기1</th>\n",
       "      <th>계란추가</th>\n",
       "      <th>신용카드</th>\n",
       "      <th>결제완료</th>\n",
       "      <th>1</th>\n",
       "      <th>500</th>\n",
       "      <th>customer556974</th>\n",
       "      <th>2021-03</th>\n",
       "      <th>500</th>\n",
       "      <td>3</td>\n",
       "    </tr>\n",
       "    <tr>\n",
       "      <th>2021-11-29 19:20</th>\n",
       "      <th>선불기1</th>\n",
       "      <th>김치볶음밥</th>\n",
       "      <th>신용카드</th>\n",
       "      <th>결제완료</th>\n",
       "      <th>1</th>\n",
       "      <th>5000</th>\n",
       "      <th>customer975556</th>\n",
       "      <th>2021-11</th>\n",
       "      <th>5000</th>\n",
       "      <td>3</td>\n",
       "    </tr>\n",
       "    <tr>\n",
       "      <th>2021-06-16 12:17</th>\n",
       "      <th>선불기1</th>\n",
       "      <th>라면</th>\n",
       "      <th>신용카드</th>\n",
       "      <th>결제완료</th>\n",
       "      <th>1</th>\n",
       "      <th>4000</th>\n",
       "      <th>customer996256</th>\n",
       "      <th>2021-06</th>\n",
       "      <th>4000</th>\n",
       "      <td>3</td>\n",
       "    </tr>\n",
       "    <tr>\n",
       "      <th>2021-08-22 17:12</th>\n",
       "      <th>선불기1</th>\n",
       "      <th>라면</th>\n",
       "      <th>신용카드</th>\n",
       "      <th>결제완료</th>\n",
       "      <th>1</th>\n",
       "      <th>4000</th>\n",
       "      <th>customer439220</th>\n",
       "      <th>2021-08</th>\n",
       "      <th>4000</th>\n",
       "      <td>3</td>\n",
       "    </tr>\n",
       "    <tr>\n",
       "      <th>2021-04-25 18:31</th>\n",
       "      <th>선불기1</th>\n",
       "      <th>김치볶음밥</th>\n",
       "      <th>신용카드</th>\n",
       "      <th>결제완료</th>\n",
       "      <th>1</th>\n",
       "      <th>5000</th>\n",
       "      <th>customer304481</th>\n",
       "      <th>2021-04</th>\n",
       "      <th>5000</th>\n",
       "      <td>3</td>\n",
       "    </tr>\n",
       "  </tbody>\n",
       "</table>\n",
       "</div>"
      ],
      "text/plain": [
       "                                                                                0\n",
       "결제일시             판매위치 상품명   결제방식 비고   판매수량 결제금액 고객             date    payment   \n",
       "2021-10-05 13:33 선불기1 치즈추가  현금   결제완료 1    500  customer803089 2021-10 500      4\n",
       "                      라면    현금   결제완료 1    4000 customer803089 2021-10 4000     4\n",
       "2021-10-07 10:05 선불기1 시럽추가  신용카드 결제완료 1    500  customer777135 2021-10 500      4\n",
       "2021-06-19 21:02 선불기1 라면    신용카드 결제완료 1    4000 customer283589 2021-06 4000     4\n",
       "2021-06-14 11:37 선불기1 치즈추가  신용카드 결제완료 1    500  customer950393 2021-06 500      3\n",
       "2021-03-23 13:41 선불기1 계란추가  신용카드 결제완료 1    500  customer556974 2021-03 500      3\n",
       "2021-11-29 19:20 선불기1 김치볶음밥 신용카드 결제완료 1    5000 customer975556 2021-11 5000     3\n",
       "2021-06-16 12:17 선불기1 라면    신용카드 결제완료 1    4000 customer996256 2021-06 4000     3\n",
       "2021-08-22 17:12 선불기1 라면    신용카드 결제완료 1    4000 customer439220 2021-08 4000     3\n",
       "2021-04-25 18:31 선불기1 김치볶음밥 신용카드 결제완료 1    5000 customer304481 2021-04 5000     3"
      ]
     },
     "execution_count": 14,
     "metadata": {},
     "output_type": "execute_result"
    }
   ],
   "source": [
    "# 집계 결과를 데이터프레임으로 변환하고, 상위 10개 선정하기\n",
    "items_count = pd.DataFrame(items_count)\n",
    "items_count[:10]"
   ]
  },
  {
   "cell_type": "code",
   "execution_count": 15,
   "id": "42666234",
   "metadata": {},
   "outputs": [
    {
     "name": "stdout",
     "output_type": "stream",
     "text": [
      "완료!\n"
     ]
    }
   ],
   "source": [
    "# 한글이 포함된 시각화를 위해 Matplotlib 설정\n",
    "import matplotlib as mpl\n",
    "import matplotlib.pyplot as plt\n",
    "import matplotlib.font_manager as fm\n",
    "fontpath = '/usr/share/fonts/truetype/nanum/NanumBarunGothic.ttf'\n",
    "font = fm.FontProperties(fname=fontpath, size=9)\n",
    "plt.rc('font', family='NanumBarunGothic') \n",
    "mpl.font_manager.findfont(font)\n",
    "print(\"완료!\")"
   ]
  },
  {
   "cell_type": "code",
   "execution_count": 26,
   "id": "d2716234",
   "metadata": {},
   "outputs": [
    {
     "data": {
      "image/png": "[encoded data removed]",
      "text/plain": [
       "<Figure size 640x480 with 1 Axes>"
      ]
     },
     "metadata": {},
     "output_type": "display_data"
    }
   ],
   "source": [
    "# 집계 결과를 시각화하기\n",
    "items_count[:10].plot(kind='bar')\n",
    "plt.ylabel('개')\n",
    "plt.title('판매 개수')\n",
    "plt.show()"
   ]
  },
  {
   "cell_type": "code",
   "execution_count": 17,
   "id": "3be783f7",
   "metadata": {},
   "outputs": [
    {
     "data": {
      "text/plain": [
       "상품명\n",
       "(면)계란추가-국물라면           5000\n",
       "(면)계란후라이 추가-불닭/짜장     20000\n",
       "(면)치즈추가               10500\n",
       "(밥)계란후라이 추가            3000\n",
       "(밥)슈레드치즈추가             4500\n",
       "                      ...  \n",
       "한돈간장불고기덮밥            112500\n",
       "한돈고추장불고기덮밥           127500\n",
       "허니밀크쉐이크              108500\n",
       "헤이즐넛라떼(HOT)            9000\n",
       "헤이즐넛라떼(ICE)           62500\n",
       "Name: payment, Length: 100, dtype: int32"
      ]
     },
     "execution_count": 17,
     "metadata": {},
     "output_type": "execute_result"
    }
   ],
   "source": [
    "# temp_var의 payment열을 상품명을 기준으로 집계하기\n",
    "items_payment = temp_var['payment'].groupby(temp_var['상품명']).sum()\n",
    "items_payment"
   ]
  },
  {
   "cell_type": "code",
   "execution_count": 18,
   "id": "d4956021",
   "metadata": {},
   "outputs": [
    {
     "data": {
      "text/plain": [
       "상품명\n",
       "김치볶음밥         5971900\n",
       "라면            2916000\n",
       "치즈불고기볶음밥      2276100\n",
       "짜장라면          2032500\n",
       "낙지볶음밥         1699700\n",
       "새우볶음밥         1529800\n",
       "치즈감자튀김        1348700\n",
       "감자튀김          1083800\n",
       "아메리카노(ICE)     936100\n",
       "불닭볶음면          688500\n",
       "Name: payment, dtype: int32"
      ]
     },
     "execution_count": 18,
     "metadata": {},
     "output_type": "execute_result"
    }
   ],
   "source": [
    "# item_payment의 값을 내림차순으로 정렬하고 상위 10개 도출하기\n",
    "items_payment = items_payment.sort_values(ascending=False)\n",
    "items_payment[:10]"
   ]
  },
  {
   "cell_type": "code",
   "execution_count": 27,
   "id": "376e1957",
   "metadata": {},
   "outputs": [
    {
     "data": {
      "image/png": "[encoded data removed]",
      "text/plain": [
       "<Figure size 640x480 with 1 Axes>"
      ]
     },
     "metadata": {},
     "output_type": "display_data"
    }
   ],
   "source": [
    "# 집계 결과 시각화하기\n",
    "items_payment[:10].plot(kind='bar')\n",
    "plt.ylabel('원')\n",
    "plt.title('판매 금액')\n",
    "plt.show()"
   ]
  },
  {
   "cell_type": "markdown",
   "id": "7fc03dc2",
   "metadata": {},
   "source": [
    "필수 문제3: 가장 많이 팔린 입장권 종류(entry_data를 이용합니다.)"
   ]
  },
  {
   "cell_type": "code",
   "execution_count": 20,
   "id": "d3b6ef3a",
   "metadata": {},
   "outputs": [
    {
     "data": {
      "text/html": [
       "<div>\n",
       "<style scoped>\n",
       "    .dataframe tbody tr th:only-of-type {\n",
       "        vertical-align: middle;\n",
       "    }\n",
       "\n",
       "    .dataframe tbody tr th {\n",
       "        vertical-align: top;\n",
       "    }\n",
       "\n",
       "    .dataframe thead th {\n",
       "        text-align: right;\n",
       "    }\n",
       "</style>\n",
       "<table border=\"1\" class=\"dataframe\">\n",
       "  <thead>\n",
       "    <tr style=\"text-align: right;\">\n",
       "      <th></th>\n",
       "      <th>요금제명</th>\n",
       "      <th>입실</th>\n",
       "      <th>퇴실</th>\n",
       "      <th>이용</th>\n",
       "      <th>위치</th>\n",
       "      <th>금액</th>\n",
       "      <th>구분</th>\n",
       "      <th>고객</th>\n",
       "    </tr>\n",
       "  </thead>\n",
       "  <tbody>\n",
       "    <tr>\n",
       "      <th>0</th>\n",
       "      <td>시간요금제(1시간)</td>\n",
       "      <td>2022-04-01 23:39</td>\n",
       "      <td>2022-04-02 0:39</td>\n",
       "      <td>오전 1:00:00</td>\n",
       "      <td>선불기2</td>\n",
       "      <td>3000</td>\n",
       "      <td>퇴실</td>\n",
       "      <td>customer263717</td>\n",
       "    </tr>\n",
       "    <tr>\n",
       "      <th>1</th>\n",
       "      <td>시간요금제(1시간)</td>\n",
       "      <td>2022-04-01 23:39</td>\n",
       "      <td>2022-04-02 0:39</td>\n",
       "      <td>오전 1:00:00</td>\n",
       "      <td>선불기2</td>\n",
       "      <td>3000</td>\n",
       "      <td>퇴실</td>\n",
       "      <td>customer263717</td>\n",
       "    </tr>\n",
       "    <tr>\n",
       "      <th>2</th>\n",
       "      <td>무제한 입장권</td>\n",
       "      <td>2022-04-01 20:55</td>\n",
       "      <td>2022-04-01 21:41</td>\n",
       "      <td>오전 12:46:00</td>\n",
       "      <td>선불기2</td>\n",
       "      <td>7400</td>\n",
       "      <td>퇴실</td>\n",
       "      <td>customer247263</td>\n",
       "    </tr>\n",
       "    <tr>\n",
       "      <th>3</th>\n",
       "      <td>무제한 입장권</td>\n",
       "      <td>2022-04-01 20:55</td>\n",
       "      <td>2022-04-01 21:41</td>\n",
       "      <td>오전 12:46:00</td>\n",
       "      <td>선불기2</td>\n",
       "      <td>7400</td>\n",
       "      <td>퇴실</td>\n",
       "      <td>customer247263</td>\n",
       "    </tr>\n",
       "    <tr>\n",
       "      <th>4</th>\n",
       "      <td>한국대생 무제한 입장권</td>\n",
       "      <td>2022-04-01 19:54</td>\n",
       "      <td>2022-04-01 22:28</td>\n",
       "      <td>오전 2:33:00</td>\n",
       "      <td>선불기2</td>\n",
       "      <td>7400</td>\n",
       "      <td>퇴실</td>\n",
       "      <td>customer388928</td>\n",
       "    </tr>\n",
       "    <tr>\n",
       "      <th>...</th>\n",
       "      <td>...</td>\n",
       "      <td>...</td>\n",
       "      <td>...</td>\n",
       "      <td>...</td>\n",
       "      <td>...</td>\n",
       "      <td>...</td>\n",
       "      <td>...</td>\n",
       "      <td>...</td>\n",
       "    </tr>\n",
       "    <tr>\n",
       "      <th>22550</th>\n",
       "      <td>종일요금제</td>\n",
       "      <td>2021-02-17 13:09</td>\n",
       "      <td>2021-02-17 14:19</td>\n",
       "      <td>오전 1:10:00</td>\n",
       "      <td>선불기1</td>\n",
       "      <td>6500</td>\n",
       "      <td>퇴실</td>\n",
       "      <td>customer774105</td>\n",
       "    </tr>\n",
       "    <tr>\n",
       "      <th>22551</th>\n",
       "      <td>종일요금제</td>\n",
       "      <td>2021-02-17 13:09</td>\n",
       "      <td>2021-02-17 14:19</td>\n",
       "      <td>오전 1:10:00</td>\n",
       "      <td>선불기1</td>\n",
       "      <td>6500</td>\n",
       "      <td>퇴실</td>\n",
       "      <td>customer774105</td>\n",
       "    </tr>\n",
       "    <tr>\n",
       "      <th>22552</th>\n",
       "      <td>종일요금제</td>\n",
       "      <td>2021-02-17 13:06</td>\n",
       "      <td>2021-02-17 14:19</td>\n",
       "      <td>오전 1:13:00</td>\n",
       "      <td>선불기1</td>\n",
       "      <td>7000</td>\n",
       "      <td>퇴실</td>\n",
       "      <td>customer774105</td>\n",
       "    </tr>\n",
       "    <tr>\n",
       "      <th>22553</th>\n",
       "      <td>종일요금제</td>\n",
       "      <td>2021-02-17 13:06</td>\n",
       "      <td>2021-02-17 14:19</td>\n",
       "      <td>오전 1:13:00</td>\n",
       "      <td>선불기1</td>\n",
       "      <td>7000</td>\n",
       "      <td>퇴실</td>\n",
       "      <td>customer774105</td>\n",
       "    </tr>\n",
       "    <tr>\n",
       "      <th>22554</th>\n",
       "      <td>종일요금제</td>\n",
       "      <td>2021-02-17 12:58</td>\n",
       "      <td>2021-02-17 14:19</td>\n",
       "      <td>오전 1:21:00</td>\n",
       "      <td>선불기1</td>\n",
       "      <td>7000</td>\n",
       "      <td>퇴실</td>\n",
       "      <td>customer774105</td>\n",
       "    </tr>\n",
       "  </tbody>\n",
       "</table>\n",
       "<p>22555 rows × 8 columns</p>\n",
       "</div>"
      ],
      "text/plain": [
       "               요금제명                입실                퇴실           이용    위치  \\\n",
       "0        시간요금제(1시간)  2022-04-01 23:39   2022-04-02 0:39   오전 1:00:00  선불기2   \n",
       "1        시간요금제(1시간)  2022-04-01 23:39   2022-04-02 0:39   오전 1:00:00  선불기2   \n",
       "2           무제한 입장권  2022-04-01 20:55  2022-04-01 21:41  오전 12:46:00  선불기2   \n",
       "3           무제한 입장권  2022-04-01 20:55  2022-04-01 21:41  오전 12:46:00  선불기2   \n",
       "4      한국대생 무제한 입장권  2022-04-01 19:54  2022-04-01 22:28   오전 2:33:00  선불기2   \n",
       "...             ...               ...               ...          ...   ...   \n",
       "22550         종일요금제  2021-02-17 13:09  2021-02-17 14:19   오전 1:10:00  선불기1   \n",
       "22551         종일요금제  2021-02-17 13:09  2021-02-17 14:19   오전 1:10:00  선불기1   \n",
       "22552         종일요금제  2021-02-17 13:06  2021-02-17 14:19   오전 1:13:00  선불기1   \n",
       "22553         종일요금제  2021-02-17 13:06  2021-02-17 14:19   오전 1:13:00  선불기1   \n",
       "22554         종일요금제  2021-02-17 12:58  2021-02-17 14:19   오전 1:21:00  선불기1   \n",
       "\n",
       "         금액  구분              고객  \n",
       "0      3000  퇴실  customer263717  \n",
       "1      3000  퇴실  customer263717  \n",
       "2      7400  퇴실  customer247263  \n",
       "3      7400  퇴실  customer247263  \n",
       "4      7400  퇴실  customer388928  \n",
       "...     ...  ..             ...  \n",
       "22550  6500  퇴실  customer774105  \n",
       "22551  6500  퇴실  customer774105  \n",
       "22552  7000  퇴실  customer774105  \n",
       "22553  7000  퇴실  customer774105  \n",
       "22554  7000  퇴실  customer774105  \n",
       "\n",
       "[22555 rows x 8 columns]"
      ]
     },
     "execution_count": 20,
     "metadata": {},
     "output_type": "execute_result"
    }
   ],
   "source": [
    "# 활용할 데이터(entry_data)를 temp_var로 정의하기\n",
    "temp_var = entry_data\n",
    "temp_var"
   ]
  },
  {
   "cell_type": "code",
   "execution_count": 21,
   "id": "d1a95c0e",
   "metadata": {},
   "outputs": [],
   "source": [
    "# temp_var의 금액을 숫자형태로 변환하기\n",
    "temp_var['금액'] = temp_var['금액'].astype(int)"
   ]
  },
  {
   "cell_type": "code",
   "execution_count": 22,
   "id": "e8b5062a",
   "metadata": {},
   "outputs": [
    {
     "data": {
      "text/plain": [
       "요금제명\n",
       "18시이후 무제한           1330500\n",
       "1시간                   90000\n",
       "1시간 요금제               14000\n",
       "3시간                   21000\n",
       "기간권                       0\n",
       "무제한 입장권             1568600\n",
       "무제한(일반요금)              6000\n",
       "무제한(한국대생)             14000\n",
       "시간 요금제(1시간당)          25000\n",
       "시간권                       0\n",
       "시간요금제                 12300\n",
       "시간요금제(1시간)          2665500\n",
       "시간요금제(1시간당)           22500\n",
       "시간요금제(3시간)          2042000\n",
       "심야-조조무제한            6221000\n",
       "심야-조조무제한(06시까지)    11600000\n",
       "이용권                       0\n",
       "입장권(종일권)           23570500\n",
       "조조무제한                693000\n",
       "종일요금제                233000\n",
       "한국대생 무제한 입장권        5207500\n",
       "한국대생 입장권(종일권)      70037000\n",
       "Name: 금액, dtype: int32"
      ]
     },
     "execution_count": 22,
     "metadata": {},
     "output_type": "execute_result"
    }
   ],
   "source": [
    "# temp_var의 금액을 요금제명을 기준으로 집계하기\n",
    "tickets = temp_var['금액'].groupby(temp_var['요금제명']).sum()\n",
    "tickets"
   ]
  },
  {
   "cell_type": "code",
   "execution_count": 23,
   "id": "15805b61",
   "metadata": {},
   "outputs": [
    {
     "data": {
      "text/plain": [
       "요금제명\n",
       "한국대생 입장권(종일권)      70037000\n",
       "입장권(종일권)           23570500\n",
       "심야-조조무제한(06시까지)    11600000\n",
       "심야-조조무제한            6221000\n",
       "한국대생 무제한 입장권        5207500\n",
       "시간요금제(1시간)          2665500\n",
       "시간요금제(3시간)          2042000\n",
       "무제한 입장권             1568600\n",
       "18시이후 무제한           1330500\n",
       "조조무제한                693000\n",
       "Name: 금액, dtype: int32"
      ]
     },
     "execution_count": 23,
     "metadata": {},
     "output_type": "execute_result"
    }
   ],
   "source": [
    "# tickets의 값을 내림차순으로 정렬하고 상위 10개 도출하기\n",
    "tickets = tickets.sort_values(ascending=False)\n",
    "tickets[:10]"
   ]
  },
  {
   "cell_type": "code",
   "execution_count": 28,
   "id": "9e592ec2",
   "metadata": {},
   "outputs": [
    {
     "data": {
      "image/png": "[encoded data removed]",
      "text/plain": [
       "<Figure size 640x480 with 1 Axes>"
      ]
     },
     "metadata": {},
     "output_type": "display_data"
    }
   ],
   "source": [
    "# 집계 결과 시각화하기\n",
    "tickets[:10].plot(kind='bar')\n",
    "plt.ylabel('원')\n",
    "plt.title('입장권별 판매금액')\n",
    "plt.show()"
   ]
  },
  {
   "cell_type": "code",
   "execution_count": null,
   "id": "2b1b3e47",
   "metadata": {},
   "outputs": [],
   "source": []
  },
  {
   "cell_type": "code",
   "execution_count": null,
   "id": "8e1cde73",
   "metadata": {},
   "outputs": [],
   "source": []
  },
  {
   "cell_type": "code",
   "execution_count": null,
   "id": "06641265",
   "metadata": {},
   "outputs": [],
   "source": []
  },
  {
   "cell_type": "code",
   "execution_count": null,
   "id": "067d0077",
   "metadata": {},
   "outputs": [],
   "source": []
  },
  {
   "cell_type": "code",
   "execution_count": null,
   "id": "258c4886",
   "metadata": {},
   "outputs": [],
   "source": []
  },
  {
   "cell_type": "code",
   "execution_count": null,
   "id": "eb7adf3d",
   "metadata": {},
   "outputs": [],
   "source": []
  },
  {
   "cell_type": "code",
   "execution_count": null,
   "id": "29472269",
   "metadata": {},
   "outputs": [],
   "source": []
  },
  {
   "cell_type": "code",
   "execution_count": null,
   "id": "d8d90e4b",
   "metadata": {},
   "outputs": [],
   "source": []
  },
  {
   "cell_type": "code",
   "execution_count": null,
   "id": "e41da114",
   "metadata": {},
   "outputs": [],
   "source": []
  }
 ],
 "metadata": {
  "kernelspec": {
   "display_name": "Python 3 (ipykernel)",
   "language": "python",
   "name": "python3"
  },
  "language_info": {
   "codemirror_mode": {
    "name": "ipython",
    "version": 3
   },
   "file_extension": ".py",
   "mimetype": "text/x-python",
   "name": "python",
   "nbconvert_exporter": "python",
   "pygments_lexer": "ipython3",
   "version": "3.9.12"
  }
 },
 "nbformat": 4,
 "nbformat_minor": 5
}
